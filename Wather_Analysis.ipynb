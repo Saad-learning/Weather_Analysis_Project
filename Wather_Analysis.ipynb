{
 "cells": [
  {
   "cell_type": "markdown",
   "metadata": {},
   "source": [
    "# The Weather Dataset"
   ]
  },
  {
   "cell_type": "markdown",
   "metadata": {},
   "source": [
    "## Importing The data "
   ]
  },
  {
   "cell_type": "code",
   "execution_count": 1,
   "metadata": {},
   "outputs": [],
   "source": [
    "import pandas as pd"
   ]
  },
  {
   "cell_type": "code",
   "execution_count": 3,
   "metadata": {},
   "outputs": [],
   "source": [
    "data = pd.read_csv(r'F:\\Porfolio Project\\Python\\Weather\\file.csv')"
   ]
  },
  {
   "cell_type": "markdown",
   "metadata": {},
   "source": [
    "----------------------------------------------------------------------------------------------------------------------------------------"
   ]
  },
  {
   "cell_type": "markdown",
   "metadata": {},
   "source": [
    "## EDA"
   ]
  },
  {
   "cell_type": "code",
   "execution_count": 4,
   "metadata": {},
   "outputs": [
    {
     "data": {
      "application/vnd.microsoft.datawrangler.viewer.v0+json": {
       "columns": [
        {
         "name": "index",
         "rawType": "int64",
         "type": "integer"
        },
        {
         "name": "Date/Time",
         "rawType": "object",
         "type": "string"
        },
        {
         "name": "Temp_C",
         "rawType": "float64",
         "type": "float"
        },
        {
         "name": "Dew Point Temp_C",
         "rawType": "float64",
         "type": "float"
        },
        {
         "name": "Rel Hum_%",
         "rawType": "int64",
         "type": "integer"
        },
        {
         "name": "Wind Speed_km/h",
         "rawType": "int64",
         "type": "integer"
        },
        {
         "name": "Visibility_km",
         "rawType": "float64",
         "type": "float"
        },
        {
         "name": "Press_kPa",
         "rawType": "float64",
         "type": "float"
        },
        {
         "name": "Weather",
         "rawType": "object",
         "type": "string"
        }
       ],
       "ref": "a68dfecb-4c56-4167-a24f-40b4c1c81157",
       "rows": [
        [
         "0",
         "1/1/2012 0:00",
         "-1.8",
         "-3.9",
         "86",
         "4",
         "8.0",
         "101.24",
         "Fog"
        ],
        [
         "1",
         "1/1/2012 1:00",
         "-1.8",
         "-3.7",
         "87",
         "4",
         "8.0",
         "101.24",
         "Fog"
        ],
        [
         "2",
         "1/1/2012 2:00",
         "-1.8",
         "-3.4",
         "89",
         "7",
         "4.0",
         "101.26",
         "Freezing Drizzle,Fog"
        ],
        [
         "3",
         "1/1/2012 3:00",
         "-1.5",
         "-3.2",
         "88",
         "6",
         "4.0",
         "101.27",
         "Freezing Drizzle,Fog"
        ],
        [
         "4",
         "1/1/2012 4:00",
         "-1.5",
         "-3.3",
         "88",
         "7",
         "4.8",
         "101.23",
         "Fog"
        ],
        [
         "5",
         "1/1/2012 5:00",
         "-1.4",
         "-3.3",
         "87",
         "9",
         "6.4",
         "101.27",
         "Fog"
        ],
        [
         "6",
         "1/1/2012 6:00",
         "-1.5",
         "-3.1",
         "89",
         "7",
         "6.4",
         "101.29",
         "Fog"
        ],
        [
         "7",
         "1/1/2012 7:00",
         "-1.4",
         "-3.6",
         "85",
         "7",
         "8.0",
         "101.26",
         "Fog"
        ],
        [
         "8",
         "1/1/2012 8:00",
         "-1.4",
         "-3.6",
         "85",
         "9",
         "8.0",
         "101.23",
         "Fog"
        ],
        [
         "9",
         "1/1/2012 9:00",
         "-1.3",
         "-3.1",
         "88",
         "15",
         "4.0",
         "101.2",
         "Fog"
        ],
        [
         "10",
         "1/1/2012 10:00",
         "-1.0",
         "-2.3",
         "91",
         "9",
         "1.2",
         "101.15",
         "Fog"
        ],
        [
         "11",
         "1/1/2012 11:00",
         "-0.5",
         "-2.1",
         "89",
         "7",
         "4.0",
         "100.98",
         "Fog"
        ],
        [
         "12",
         "1/1/2012 12:00",
         "-0.2",
         "-2.0",
         "88",
         "9",
         "4.8",
         "100.79",
         "Fog"
        ],
        [
         "13",
         "1/1/2012 13:00",
         "0.2",
         "-1.7",
         "87",
         "13",
         "4.8",
         "100.58",
         "Fog"
        ],
        [
         "14",
         "1/1/2012 14:00",
         "0.8",
         "-1.1",
         "87",
         "20",
         "4.8",
         "100.31",
         "Fog"
        ],
        [
         "15",
         "1/1/2012 15:00",
         "1.8",
         "-0.4",
         "85",
         "22",
         "6.4",
         "100.07",
         "Fog"
        ],
        [
         "16",
         "1/1/2012 16:00",
         "2.6",
         "-0.2",
         "82",
         "13",
         "12.9",
         "99.93",
         "Mostly Cloudy"
        ],
        [
         "17",
         "1/1/2012 17:00",
         "3.0",
         "0.0",
         "81",
         "13",
         "16.1",
         "99.81",
         "Cloudy"
        ],
        [
         "18",
         "1/1/2012 18:00",
         "3.8",
         "1.0",
         "82",
         "15",
         "12.9",
         "99.74",
         "Rain"
        ],
        [
         "19",
         "1/1/2012 19:00",
         "3.1",
         "1.3",
         "88",
         "15",
         "12.9",
         "99.68",
         "Rain"
        ],
        [
         "20",
         "1/1/2012 20:00",
         "3.2",
         "1.3",
         "87",
         "19",
         "25.0",
         "99.5",
         "Cloudy"
        ],
        [
         "21",
         "1/1/2012 21:00",
         "4.0",
         "1.7",
         "85",
         "20",
         "25.0",
         "99.39",
         "Cloudy"
        ],
        [
         "22",
         "1/1/2012 22:00",
         "4.4",
         "1.9",
         "84",
         "24",
         "19.3",
         "99.32",
         "Rain Showers"
        ],
        [
         "23",
         "1/1/2012 23:00",
         "5.3",
         "2.0",
         "79",
         "30",
         "25.0",
         "99.31",
         "Cloudy"
        ],
        [
         "24",
         "1/2/2012 0:00",
         "5.2",
         "1.5",
         "77",
         "35",
         "25.0",
         "99.26",
         "Rain Showers"
        ],
        [
         "25",
         "1/2/2012 1:00",
         "4.6",
         "0.0",
         "72",
         "39",
         "25.0",
         "99.26",
         "Cloudy"
        ],
        [
         "26",
         "1/2/2012 2:00",
         "3.9",
         "-0.9",
         "71",
         "32",
         "25.0",
         "99.26",
         "Mostly Cloudy"
        ],
        [
         "27",
         "1/2/2012 3:00",
         "3.7",
         "-1.5",
         "69",
         "33",
         "25.0",
         "99.3",
         "Mostly Cloudy"
        ],
        [
         "28",
         "1/2/2012 4:00",
         "2.9",
         "-2.3",
         "69",
         "32",
         "25.0",
         "99.26",
         "Mostly Cloudy"
        ],
        [
         "29",
         "1/2/2012 5:00",
         "2.6",
         "-2.3",
         "70",
         "32",
         "25.0",
         "99.21",
         "Mostly Cloudy"
        ],
        [
         "30",
         "1/2/2012 6:00",
         "2.3",
         "-2.6",
         "70",
         "26",
         "25.0",
         "99.18",
         "Mostly Cloudy"
        ],
        [
         "31",
         "1/2/2012 7:00",
         "2.0",
         "-2.9",
         "70",
         "33",
         "25.0",
         "99.14",
         "Mostly Cloudy"
        ],
        [
         "32",
         "1/2/2012 8:00",
         "1.9",
         "-3.3",
         "68",
         "39",
         "24.1",
         "99.14",
         "Mostly Cloudy"
        ],
        [
         "33",
         "1/2/2012 9:00",
         "1.8",
         "-3.7",
         "67",
         "44",
         "24.1",
         "99.14",
         "Mostly Cloudy"
        ],
        [
         "34",
         "1/2/2012 10:00",
         "1.5",
         "-4.1",
         "66",
         "43",
         "24.1",
         "99.18",
         "Mostly Cloudy"
        ],
        [
         "35",
         "1/2/2012 11:00",
         "2.2",
         "-3.5",
         "66",
         "30",
         "24.1",
         "99.19",
         "Mostly Cloudy"
        ],
        [
         "36",
         "1/2/2012 12:00",
         "1.7",
         "-6.2",
         "56",
         "48",
         "24.1",
         "99.21",
         "Mainly Clear"
        ],
        [
         "37",
         "1/2/2012 13:00",
         "1.1",
         "-6.5",
         "57",
         "37",
         "24.1",
         "99.27",
         "Mostly Cloudy"
        ],
        [
         "38",
         "1/2/2012 14:00",
         "1.1",
         "-6.8",
         "56",
         "33",
         "24.1",
         "99.33",
         "Mostly Cloudy"
        ],
        [
         "39",
         "1/2/2012 15:00",
         "0.0",
         "-7.0",
         "59",
         "33",
         "24.1",
         "99.41",
         "Mostly Cloudy"
        ],
        [
         "40",
         "1/2/2012 16:00",
         "-0.7",
         "-8.7",
         "55",
         "24",
         "24.1",
         "99.5",
         "Mostly Cloudy"
        ],
        [
         "41",
         "1/2/2012 17:00",
         "-2.1",
         "-9.5",
         "57",
         "22",
         "25.0",
         "99.66",
         "Snow Showers"
        ],
        [
         "42",
         "1/2/2012 18:00",
         "-4.1",
         "-11.4",
         "57",
         "28",
         "25.0",
         "99.86",
         "Mostly Cloudy"
        ],
        [
         "43",
         "1/2/2012 19:00",
         "-4.8",
         "-12.1",
         "57",
         "24",
         "25.0",
         "100.0",
         "Mostly Cloudy"
        ],
        [
         "44",
         "1/2/2012 20:00",
         "-5.6",
         "-13.4",
         "54",
         "24",
         "25.0",
         "100.07",
         "Snow Showers"
        ],
        [
         "45",
         "1/2/2012 21:00",
         "-5.8",
         "-12.8",
         "58",
         "26",
         "25.0",
         "100.15",
         "Snow Showers"
        ],
        [
         "46",
         "1/2/2012 22:00",
         "-7.0",
         "-14.7",
         "54",
         "20",
         "25.0",
         "100.26",
         "Cloudy"
        ],
        [
         "47",
         "1/2/2012 23:00",
         "-7.4",
         "-14.1",
         "59",
         "17",
         "19.3",
         "100.27",
         "Snow Showers"
        ],
        [
         "48",
         "1/3/2012 0:00",
         "-9.0",
         "-16.0",
         "57",
         "28",
         "25.0",
         "100.35",
         "Snow Showers"
        ],
        [
         "49",
         "1/3/2012 1:00",
         "-9.7",
         "-17.2",
         "54",
         "20",
         "25.0",
         "100.43",
         "Cloudy"
        ]
       ],
       "shape": {
        "columns": 8,
        "rows": 8784
       }
      },
      "text/html": [
       "<div>\n",
       "<style scoped>\n",
       "    .dataframe tbody tr th:only-of-type {\n",
       "        vertical-align: middle;\n",
       "    }\n",
       "\n",
       "    .dataframe tbody tr th {\n",
       "        vertical-align: top;\n",
       "    }\n",
       "\n",
       "    .dataframe thead th {\n",
       "        text-align: right;\n",
       "    }\n",
       "</style>\n",
       "<table border=\"1\" class=\"dataframe\">\n",
       "  <thead>\n",
       "    <tr style=\"text-align: right;\">\n",
       "      <th></th>\n",
       "      <th>Date/Time</th>\n",
       "      <th>Temp_C</th>\n",
       "      <th>Dew Point Temp_C</th>\n",
       "      <th>Rel Hum_%</th>\n",
       "      <th>Wind Speed_km/h</th>\n",
       "      <th>Visibility_km</th>\n",
       "      <th>Press_kPa</th>\n",
       "      <th>Weather</th>\n",
       "    </tr>\n",
       "  </thead>\n",
       "  <tbody>\n",
       "    <tr>\n",
       "      <th>0</th>\n",
       "      <td>1/1/2012 0:00</td>\n",
       "      <td>-1.8</td>\n",
       "      <td>-3.9</td>\n",
       "      <td>86</td>\n",
       "      <td>4</td>\n",
       "      <td>8.0</td>\n",
       "      <td>101.24</td>\n",
       "      <td>Fog</td>\n",
       "    </tr>\n",
       "    <tr>\n",
       "      <th>1</th>\n",
       "      <td>1/1/2012 1:00</td>\n",
       "      <td>-1.8</td>\n",
       "      <td>-3.7</td>\n",
       "      <td>87</td>\n",
       "      <td>4</td>\n",
       "      <td>8.0</td>\n",
       "      <td>101.24</td>\n",
       "      <td>Fog</td>\n",
       "    </tr>\n",
       "    <tr>\n",
       "      <th>2</th>\n",
       "      <td>1/1/2012 2:00</td>\n",
       "      <td>-1.8</td>\n",
       "      <td>-3.4</td>\n",
       "      <td>89</td>\n",
       "      <td>7</td>\n",
       "      <td>4.0</td>\n",
       "      <td>101.26</td>\n",
       "      <td>Freezing Drizzle,Fog</td>\n",
       "    </tr>\n",
       "    <tr>\n",
       "      <th>3</th>\n",
       "      <td>1/1/2012 3:00</td>\n",
       "      <td>-1.5</td>\n",
       "      <td>-3.2</td>\n",
       "      <td>88</td>\n",
       "      <td>6</td>\n",
       "      <td>4.0</td>\n",
       "      <td>101.27</td>\n",
       "      <td>Freezing Drizzle,Fog</td>\n",
       "    </tr>\n",
       "    <tr>\n",
       "      <th>4</th>\n",
       "      <td>1/1/2012 4:00</td>\n",
       "      <td>-1.5</td>\n",
       "      <td>-3.3</td>\n",
       "      <td>88</td>\n",
       "      <td>7</td>\n",
       "      <td>4.8</td>\n",
       "      <td>101.23</td>\n",
       "      <td>Fog</td>\n",
       "    </tr>\n",
       "    <tr>\n",
       "      <th>...</th>\n",
       "      <td>...</td>\n",
       "      <td>...</td>\n",
       "      <td>...</td>\n",
       "      <td>...</td>\n",
       "      <td>...</td>\n",
       "      <td>...</td>\n",
       "      <td>...</td>\n",
       "      <td>...</td>\n",
       "    </tr>\n",
       "    <tr>\n",
       "      <th>8779</th>\n",
       "      <td>12/31/2012 19:00</td>\n",
       "      <td>0.1</td>\n",
       "      <td>-2.7</td>\n",
       "      <td>81</td>\n",
       "      <td>30</td>\n",
       "      <td>9.7</td>\n",
       "      <td>100.13</td>\n",
       "      <td>Snow</td>\n",
       "    </tr>\n",
       "    <tr>\n",
       "      <th>8780</th>\n",
       "      <td>12/31/2012 20:00</td>\n",
       "      <td>0.2</td>\n",
       "      <td>-2.4</td>\n",
       "      <td>83</td>\n",
       "      <td>24</td>\n",
       "      <td>9.7</td>\n",
       "      <td>100.03</td>\n",
       "      <td>Snow</td>\n",
       "    </tr>\n",
       "    <tr>\n",
       "      <th>8781</th>\n",
       "      <td>12/31/2012 21:00</td>\n",
       "      <td>-0.5</td>\n",
       "      <td>-1.5</td>\n",
       "      <td>93</td>\n",
       "      <td>28</td>\n",
       "      <td>4.8</td>\n",
       "      <td>99.95</td>\n",
       "      <td>Snow</td>\n",
       "    </tr>\n",
       "    <tr>\n",
       "      <th>8782</th>\n",
       "      <td>12/31/2012 22:00</td>\n",
       "      <td>-0.2</td>\n",
       "      <td>-1.8</td>\n",
       "      <td>89</td>\n",
       "      <td>28</td>\n",
       "      <td>9.7</td>\n",
       "      <td>99.91</td>\n",
       "      <td>Snow</td>\n",
       "    </tr>\n",
       "    <tr>\n",
       "      <th>8783</th>\n",
       "      <td>12/31/2012 23:00</td>\n",
       "      <td>0.0</td>\n",
       "      <td>-2.1</td>\n",
       "      <td>86</td>\n",
       "      <td>30</td>\n",
       "      <td>11.3</td>\n",
       "      <td>99.89</td>\n",
       "      <td>Snow</td>\n",
       "    </tr>\n",
       "  </tbody>\n",
       "</table>\n",
       "<p>8784 rows × 8 columns</p>\n",
       "</div>"
      ],
      "text/plain": [
       "             Date/Time  Temp_C  Dew Point Temp_C  Rel Hum_%  Wind Speed_km/h  \\\n",
       "0        1/1/2012 0:00    -1.8              -3.9         86                4   \n",
       "1        1/1/2012 1:00    -1.8              -3.7         87                4   \n",
       "2        1/1/2012 2:00    -1.8              -3.4         89                7   \n",
       "3        1/1/2012 3:00    -1.5              -3.2         88                6   \n",
       "4        1/1/2012 4:00    -1.5              -3.3         88                7   \n",
       "...                ...     ...               ...        ...              ...   \n",
       "8779  12/31/2012 19:00     0.1              -2.7         81               30   \n",
       "8780  12/31/2012 20:00     0.2              -2.4         83               24   \n",
       "8781  12/31/2012 21:00    -0.5              -1.5         93               28   \n",
       "8782  12/31/2012 22:00    -0.2              -1.8         89               28   \n",
       "8783  12/31/2012 23:00     0.0              -2.1         86               30   \n",
       "\n",
       "      Visibility_km  Press_kPa               Weather  \n",
       "0               8.0     101.24                   Fog  \n",
       "1               8.0     101.24                   Fog  \n",
       "2               4.0     101.26  Freezing Drizzle,Fog  \n",
       "3               4.0     101.27  Freezing Drizzle,Fog  \n",
       "4               4.8     101.23                   Fog  \n",
       "...             ...        ...                   ...  \n",
       "8779            9.7     100.13                  Snow  \n",
       "8780            9.7     100.03                  Snow  \n",
       "8781            4.8      99.95                  Snow  \n",
       "8782            9.7      99.91                  Snow  \n",
       "8783           11.3      99.89                  Snow  \n",
       "\n",
       "[8784 rows x 8 columns]"
      ]
     },
     "execution_count": 4,
     "metadata": {},
     "output_type": "execute_result"
    }
   ],
   "source": [
    "data"
   ]
  },
  {
   "cell_type": "code",
   "execution_count": 5,
   "metadata": {},
   "outputs": [
    {
     "data": {
      "application/vnd.microsoft.datawrangler.viewer.v0+json": {
       "columns": [
        {
         "name": "index",
         "rawType": "int64",
         "type": "integer"
        },
        {
         "name": "Date/Time",
         "rawType": "object",
         "type": "string"
        },
        {
         "name": "Temp_C",
         "rawType": "float64",
         "type": "float"
        },
        {
         "name": "Dew Point Temp_C",
         "rawType": "float64",
         "type": "float"
        },
        {
         "name": "Rel Hum_%",
         "rawType": "int64",
         "type": "integer"
        },
        {
         "name": "Wind Speed_km/h",
         "rawType": "int64",
         "type": "integer"
        },
        {
         "name": "Visibility_km",
         "rawType": "float64",
         "type": "float"
        },
        {
         "name": "Press_kPa",
         "rawType": "float64",
         "type": "float"
        },
        {
         "name": "Weather",
         "rawType": "object",
         "type": "string"
        }
       ],
       "ref": "85ca0ec8-24d7-42fa-a75e-61482999e9cf",
       "rows": [
        [
         "0",
         "1/1/2012 0:00",
         "-1.8",
         "-3.9",
         "86",
         "4",
         "8.0",
         "101.24",
         "Fog"
        ],
        [
         "1",
         "1/1/2012 1:00",
         "-1.8",
         "-3.7",
         "87",
         "4",
         "8.0",
         "101.24",
         "Fog"
        ],
        [
         "2",
         "1/1/2012 2:00",
         "-1.8",
         "-3.4",
         "89",
         "7",
         "4.0",
         "101.26",
         "Freezing Drizzle,Fog"
        ],
        [
         "3",
         "1/1/2012 3:00",
         "-1.5",
         "-3.2",
         "88",
         "6",
         "4.0",
         "101.27",
         "Freezing Drizzle,Fog"
        ],
        [
         "4",
         "1/1/2012 4:00",
         "-1.5",
         "-3.3",
         "88",
         "7",
         "4.8",
         "101.23",
         "Fog"
        ]
       ],
       "shape": {
        "columns": 8,
        "rows": 5
       }
      },
      "text/html": [
       "<div>\n",
       "<style scoped>\n",
       "    .dataframe tbody tr th:only-of-type {\n",
       "        vertical-align: middle;\n",
       "    }\n",
       "\n",
       "    .dataframe tbody tr th {\n",
       "        vertical-align: top;\n",
       "    }\n",
       "\n",
       "    .dataframe thead th {\n",
       "        text-align: right;\n",
       "    }\n",
       "</style>\n",
       "<table border=\"1\" class=\"dataframe\">\n",
       "  <thead>\n",
       "    <tr style=\"text-align: right;\">\n",
       "      <th></th>\n",
       "      <th>Date/Time</th>\n",
       "      <th>Temp_C</th>\n",
       "      <th>Dew Point Temp_C</th>\n",
       "      <th>Rel Hum_%</th>\n",
       "      <th>Wind Speed_km/h</th>\n",
       "      <th>Visibility_km</th>\n",
       "      <th>Press_kPa</th>\n",
       "      <th>Weather</th>\n",
       "    </tr>\n",
       "  </thead>\n",
       "  <tbody>\n",
       "    <tr>\n",
       "      <th>0</th>\n",
       "      <td>1/1/2012 0:00</td>\n",
       "      <td>-1.8</td>\n",
       "      <td>-3.9</td>\n",
       "      <td>86</td>\n",
       "      <td>4</td>\n",
       "      <td>8.0</td>\n",
       "      <td>101.24</td>\n",
       "      <td>Fog</td>\n",
       "    </tr>\n",
       "    <tr>\n",
       "      <th>1</th>\n",
       "      <td>1/1/2012 1:00</td>\n",
       "      <td>-1.8</td>\n",
       "      <td>-3.7</td>\n",
       "      <td>87</td>\n",
       "      <td>4</td>\n",
       "      <td>8.0</td>\n",
       "      <td>101.24</td>\n",
       "      <td>Fog</td>\n",
       "    </tr>\n",
       "    <tr>\n",
       "      <th>2</th>\n",
       "      <td>1/1/2012 2:00</td>\n",
       "      <td>-1.8</td>\n",
       "      <td>-3.4</td>\n",
       "      <td>89</td>\n",
       "      <td>7</td>\n",
       "      <td>4.0</td>\n",
       "      <td>101.26</td>\n",
       "      <td>Freezing Drizzle,Fog</td>\n",
       "    </tr>\n",
       "    <tr>\n",
       "      <th>3</th>\n",
       "      <td>1/1/2012 3:00</td>\n",
       "      <td>-1.5</td>\n",
       "      <td>-3.2</td>\n",
       "      <td>88</td>\n",
       "      <td>6</td>\n",
       "      <td>4.0</td>\n",
       "      <td>101.27</td>\n",
       "      <td>Freezing Drizzle,Fog</td>\n",
       "    </tr>\n",
       "    <tr>\n",
       "      <th>4</th>\n",
       "      <td>1/1/2012 4:00</td>\n",
       "      <td>-1.5</td>\n",
       "      <td>-3.3</td>\n",
       "      <td>88</td>\n",
       "      <td>7</td>\n",
       "      <td>4.8</td>\n",
       "      <td>101.23</td>\n",
       "      <td>Fog</td>\n",
       "    </tr>\n",
       "  </tbody>\n",
       "</table>\n",
       "</div>"
      ],
      "text/plain": [
       "       Date/Time  Temp_C  Dew Point Temp_C  Rel Hum_%  Wind Speed_km/h  \\\n",
       "0  1/1/2012 0:00    -1.8              -3.9         86                4   \n",
       "1  1/1/2012 1:00    -1.8              -3.7         87                4   \n",
       "2  1/1/2012 2:00    -1.8              -3.4         89                7   \n",
       "3  1/1/2012 3:00    -1.5              -3.2         88                6   \n",
       "4  1/1/2012 4:00    -1.5              -3.3         88                7   \n",
       "\n",
       "   Visibility_km  Press_kPa               Weather  \n",
       "0            8.0     101.24                   Fog  \n",
       "1            8.0     101.24                   Fog  \n",
       "2            4.0     101.26  Freezing Drizzle,Fog  \n",
       "3            4.0     101.27  Freezing Drizzle,Fog  \n",
       "4            4.8     101.23                   Fog  "
      ]
     },
     "execution_count": 5,
     "metadata": {},
     "output_type": "execute_result"
    }
   ],
   "source": [
    "data.head()"
   ]
  },
  {
   "cell_type": "code",
   "execution_count": 7,
   "metadata": {},
   "outputs": [
    {
     "data": {
      "text/plain": [
       "(8784, 8)"
      ]
     },
     "execution_count": 7,
     "metadata": {},
     "output_type": "execute_result"
    }
   ],
   "source": [
    "data.shape"
   ]
  },
  {
   "cell_type": "code",
   "execution_count": 9,
   "metadata": {},
   "outputs": [
    {
     "data": {
      "text/plain": [
       "RangeIndex(start=0, stop=8784, step=1)"
      ]
     },
     "execution_count": 9,
     "metadata": {},
     "output_type": "execute_result"
    }
   ],
   "source": [
    "data.index"
   ]
  },
  {
   "cell_type": "code",
   "execution_count": 10,
   "metadata": {},
   "outputs": [
    {
     "data": {
      "text/plain": [
       "Index(['Date/Time', 'Temp_C', 'Dew Point Temp_C', 'Rel Hum_%',\n",
       "       'Wind Speed_km/h', 'Visibility_km', 'Press_kPa', 'Weather'],\n",
       "      dtype='object')"
      ]
     },
     "execution_count": 10,
     "metadata": {},
     "output_type": "execute_result"
    }
   ],
   "source": [
    "data.columns"
   ]
  },
  {
   "cell_type": "code",
   "execution_count": 11,
   "metadata": {},
   "outputs": [
    {
     "data": {
      "application/vnd.microsoft.datawrangler.viewer.v0+json": {
       "columns": [
        {
         "name": "index",
         "rawType": "object",
         "type": "string"
        },
        {
         "name": "0",
         "rawType": "object",
         "type": "unknown"
        }
       ],
       "ref": "50facead-9ee8-4168-9552-56fc6274f883",
       "rows": [
        [
         "Date/Time",
         "object"
        ],
        [
         "Temp_C",
         "float64"
        ],
        [
         "Dew Point Temp_C",
         "float64"
        ],
        [
         "Rel Hum_%",
         "int64"
        ],
        [
         "Wind Speed_km/h",
         "int64"
        ],
        [
         "Visibility_km",
         "float64"
        ],
        [
         "Press_kPa",
         "float64"
        ],
        [
         "Weather",
         "object"
        ]
       ],
       "shape": {
        "columns": 1,
        "rows": 8
       }
      },
      "text/plain": [
       "Date/Time            object\n",
       "Temp_C              float64\n",
       "Dew Point Temp_C    float64\n",
       "Rel Hum_%             int64\n",
       "Wind Speed_km/h       int64\n",
       "Visibility_km       float64\n",
       "Press_kPa           float64\n",
       "Weather              object\n",
       "dtype: object"
      ]
     },
     "execution_count": 11,
     "metadata": {},
     "output_type": "execute_result"
    }
   ],
   "source": [
    "data.dtypes"
   ]
  },
  {
   "cell_type": "code",
   "execution_count": 15,
   "metadata": {},
   "outputs": [
    {
     "data": {
      "text/plain": [
       "array(['Fog', 'Freezing Drizzle,Fog', 'Mostly Cloudy', 'Cloudy', 'Rain',\n",
       "       'Rain Showers', 'Mainly Clear', 'Snow Showers', 'Snow', 'Clear',\n",
       "       'Freezing Rain,Fog', 'Freezing Rain', 'Freezing Drizzle',\n",
       "       'Rain,Snow', 'Moderate Snow', 'Freezing Drizzle,Snow',\n",
       "       'Freezing Rain,Snow Grains', 'Snow,Blowing Snow', 'Freezing Fog',\n",
       "       'Haze', 'Rain,Fog', 'Drizzle,Fog', 'Drizzle',\n",
       "       'Freezing Drizzle,Haze', 'Freezing Rain,Haze', 'Snow,Haze',\n",
       "       'Snow,Fog', 'Snow,Ice Pellets', 'Rain,Haze', 'Thunderstorms,Rain',\n",
       "       'Thunderstorms,Rain Showers', 'Thunderstorms,Heavy Rain Showers',\n",
       "       'Thunderstorms,Rain Showers,Fog', 'Thunderstorms',\n",
       "       'Thunderstorms,Rain,Fog',\n",
       "       'Thunderstorms,Moderate Rain Showers,Fog', 'Rain Showers,Fog',\n",
       "       'Rain Showers,Snow Showers', 'Snow Pellets', 'Rain,Snow,Fog',\n",
       "       'Moderate Rain,Fog', 'Freezing Rain,Ice Pellets,Fog',\n",
       "       'Drizzle,Ice Pellets,Fog', 'Drizzle,Snow', 'Rain,Ice Pellets',\n",
       "       'Drizzle,Snow,Fog', 'Rain,Snow Grains', 'Rain,Snow,Ice Pellets',\n",
       "       'Snow Showers,Fog', 'Moderate Snow,Blowing Snow'], dtype=object)"
      ]
     },
     "execution_count": 15,
     "metadata": {},
     "output_type": "execute_result"
    }
   ],
   "source": [
    "data['Weather'].unique()"
   ]
  },
  {
   "cell_type": "code",
   "execution_count": 18,
   "metadata": {},
   "outputs": [
    {
     "data": {
      "application/vnd.microsoft.datawrangler.viewer.v0+json": {
       "columns": [
        {
         "name": "index",
         "rawType": "object",
         "type": "string"
        },
        {
         "name": "0",
         "rawType": "int64",
         "type": "integer"
        }
       ],
       "ref": "37e0366f-e90c-43ac-b963-e6abab18e1f2",
       "rows": [
        [
         "Date/Time",
         "8784"
        ],
        [
         "Temp_C",
         "8784"
        ],
        [
         "Dew Point Temp_C",
         "8784"
        ],
        [
         "Rel Hum_%",
         "8784"
        ],
        [
         "Wind Speed_km/h",
         "8784"
        ],
        [
         "Visibility_km",
         "8784"
        ],
        [
         "Press_kPa",
         "8784"
        ],
        [
         "Weather",
         "8784"
        ]
       ],
       "shape": {
        "columns": 1,
        "rows": 8
       }
      },
      "text/plain": [
       "Date/Time           8784\n",
       "Temp_C              8784\n",
       "Dew Point Temp_C    8784\n",
       "Rel Hum_%           8784\n",
       "Wind Speed_km/h     8784\n",
       "Visibility_km       8784\n",
       "Press_kPa           8784\n",
       "Weather             8784\n",
       "dtype: int64"
      ]
     },
     "execution_count": 18,
     "metadata": {},
     "output_type": "execute_result"
    }
   ],
   "source": [
    "data.count()"
   ]
  },
  {
   "cell_type": "code",
   "execution_count": 21,
   "metadata": {},
   "outputs": [
    {
     "data": {
      "application/vnd.microsoft.datawrangler.viewer.v0+json": {
       "columns": [
        {
         "name": "Weather",
         "rawType": "object",
         "type": "string"
        },
        {
         "name": "count",
         "rawType": "int64",
         "type": "integer"
        }
       ],
       "ref": "b2d092c7-1dc5-4cc6-816b-3cbb941d8799",
       "rows": [
        [
         "Mainly Clear",
         "2106"
        ],
        [
         "Mostly Cloudy",
         "2069"
        ],
        [
         "Cloudy",
         "1728"
        ],
        [
         "Clear",
         "1326"
        ],
        [
         "Snow",
         "390"
        ],
        [
         "Rain",
         "306"
        ],
        [
         "Rain Showers",
         "188"
        ],
        [
         "Fog",
         "150"
        ],
        [
         "Rain,Fog",
         "116"
        ],
        [
         "Drizzle,Fog",
         "80"
        ],
        [
         "Snow Showers",
         "60"
        ],
        [
         "Drizzle",
         "41"
        ],
        [
         "Snow,Fog",
         "37"
        ],
        [
         "Snow,Blowing Snow",
         "19"
        ],
        [
         "Rain,Snow",
         "18"
        ],
        [
         "Thunderstorms,Rain Showers",
         "16"
        ],
        [
         "Haze",
         "16"
        ],
        [
         "Drizzle,Snow,Fog",
         "15"
        ],
        [
         "Freezing Rain",
         "14"
        ],
        [
         "Freezing Drizzle,Snow",
         "11"
        ],
        [
         "Freezing Drizzle",
         "7"
        ],
        [
         "Snow,Ice Pellets",
         "6"
        ],
        [
         "Freezing Drizzle,Fog",
         "6"
        ],
        [
         "Snow,Haze",
         "5"
        ],
        [
         "Freezing Fog",
         "4"
        ],
        [
         "Snow Showers,Fog",
         "4"
        ],
        [
         "Moderate Snow",
         "4"
        ],
        [
         "Rain,Snow,Ice Pellets",
         "4"
        ],
        [
         "Freezing Rain,Fog",
         "4"
        ],
        [
         "Freezing Drizzle,Haze",
         "3"
        ],
        [
         "Rain,Haze",
         "3"
        ],
        [
         "Thunderstorms,Rain",
         "3"
        ],
        [
         "Thunderstorms,Rain Showers,Fog",
         "3"
        ],
        [
         "Freezing Rain,Haze",
         "2"
        ],
        [
         "Drizzle,Snow",
         "2"
        ],
        [
         "Rain Showers,Snow Showers",
         "2"
        ],
        [
         "Thunderstorms",
         "2"
        ],
        [
         "Moderate Snow,Blowing Snow",
         "2"
        ],
        [
         "Rain Showers,Fog",
         "1"
        ],
        [
         "Thunderstorms,Moderate Rain Showers,Fog",
         "1"
        ],
        [
         "Snow Pellets",
         "1"
        ],
        [
         "Rain,Snow,Fog",
         "1"
        ],
        [
         "Moderate Rain,Fog",
         "1"
        ],
        [
         "Freezing Rain,Ice Pellets,Fog",
         "1"
        ],
        [
         "Drizzle,Ice Pellets,Fog",
         "1"
        ],
        [
         "Thunderstorms,Rain,Fog",
         "1"
        ],
        [
         "Rain,Ice Pellets",
         "1"
        ],
        [
         "Rain,Snow Grains",
         "1"
        ],
        [
         "Thunderstorms,Heavy Rain Showers",
         "1"
        ],
        [
         "Freezing Rain,Snow Grains",
         "1"
        ]
       ],
       "shape": {
        "columns": 1,
        "rows": 50
       }
      },
      "text/plain": [
       "Weather\n",
       "Mainly Clear                               2106\n",
       "Mostly Cloudy                              2069\n",
       "Cloudy                                     1728\n",
       "Clear                                      1326\n",
       "Snow                                        390\n",
       "Rain                                        306\n",
       "Rain Showers                                188\n",
       "Fog                                         150\n",
       "Rain,Fog                                    116\n",
       "Drizzle,Fog                                  80\n",
       "Snow Showers                                 60\n",
       "Drizzle                                      41\n",
       "Snow,Fog                                     37\n",
       "Snow,Blowing Snow                            19\n",
       "Rain,Snow                                    18\n",
       "Thunderstorms,Rain Showers                   16\n",
       "Haze                                         16\n",
       "Drizzle,Snow,Fog                             15\n",
       "Freezing Rain                                14\n",
       "Freezing Drizzle,Snow                        11\n",
       "Freezing Drizzle                              7\n",
       "Snow,Ice Pellets                              6\n",
       "Freezing Drizzle,Fog                          6\n",
       "Snow,Haze                                     5\n",
       "Freezing Fog                                  4\n",
       "Snow Showers,Fog                              4\n",
       "Moderate Snow                                 4\n",
       "Rain,Snow,Ice Pellets                         4\n",
       "Freezing Rain,Fog                             4\n",
       "Freezing Drizzle,Haze                         3\n",
       "Rain,Haze                                     3\n",
       "Thunderstorms,Rain                            3\n",
       "Thunderstorms,Rain Showers,Fog                3\n",
       "Freezing Rain,Haze                            2\n",
       "Drizzle,Snow                                  2\n",
       "Rain Showers,Snow Showers                     2\n",
       "Thunderstorms                                 2\n",
       "Moderate Snow,Blowing Snow                    2\n",
       "Rain Showers,Fog                              1\n",
       "Thunderstorms,Moderate Rain Showers,Fog       1\n",
       "Snow Pellets                                  1\n",
       "Rain,Snow,Fog                                 1\n",
       "Moderate Rain,Fog                             1\n",
       "Freezing Rain,Ice Pellets,Fog                 1\n",
       "Drizzle,Ice Pellets,Fog                       1\n",
       "Thunderstorms,Rain,Fog                        1\n",
       "Rain,Ice Pellets                              1\n",
       "Rain,Snow Grains                              1\n",
       "Thunderstorms,Heavy Rain Showers              1\n",
       "Freezing Rain,Snow Grains                     1\n",
       "Name: count, dtype: int64"
      ]
     },
     "execution_count": 21,
     "metadata": {},
     "output_type": "execute_result"
    }
   ],
   "source": [
    "data['Weather'].value_counts()"
   ]
  },
  {
   "cell_type": "code",
   "execution_count": 22,
   "metadata": {},
   "outputs": [
    {
     "name": "stdout",
     "output_type": "stream",
     "text": [
      "<class 'pandas.core.frame.DataFrame'>\n",
      "RangeIndex: 8784 entries, 0 to 8783\n",
      "Data columns (total 8 columns):\n",
      " #   Column            Non-Null Count  Dtype  \n",
      "---  ------            --------------  -----  \n",
      " 0   Date/Time         8784 non-null   object \n",
      " 1   Temp_C            8784 non-null   float64\n",
      " 2   Dew Point Temp_C  8784 non-null   float64\n",
      " 3   Rel Hum_%         8784 non-null   int64  \n",
      " 4   Wind Speed_km/h   8784 non-null   int64  \n",
      " 5   Visibility_km     8784 non-null   float64\n",
      " 6   Press_kPa         8784 non-null   float64\n",
      " 7   Weather           8784 non-null   object \n",
      "dtypes: float64(4), int64(2), object(2)\n",
      "memory usage: 549.1+ KB\n"
     ]
    }
   ],
   "source": [
    "data.info()"
   ]
  },
  {
   "cell_type": "markdown",
   "metadata": {},
   "source": [
    "-------------------------------------------------------------------------------------------------------------------------------------"
   ]
  },
  {
   "cell_type": "markdown",
   "metadata": {},
   "source": [
    "## Data Questions"
   ]
  },
  {
   "cell_type": "markdown",
   "metadata": {},
   "source": [
    "### Q1. Find all the unique 'Wind Speed' values in the data."
   ]
  },
  {
   "cell_type": "code",
   "execution_count": 23,
   "metadata": {},
   "outputs": [
    {
     "data": {
      "application/vnd.microsoft.datawrangler.viewer.v0+json": {
       "columns": [
        {
         "name": "index",
         "rawType": "object",
         "type": "string"
        },
        {
         "name": "0",
         "rawType": "int64",
         "type": "integer"
        }
       ],
       "ref": "f62b71a3-fbe5-4312-978b-3cb85a19c72e",
       "rows": [
        [
         "Date/Time",
         "8784"
        ],
        [
         "Temp_C",
         "533"
        ],
        [
         "Dew Point Temp_C",
         "489"
        ],
        [
         "Rel Hum_%",
         "83"
        ],
        [
         "Wind Speed_km/h",
         "34"
        ],
        [
         "Visibility_km",
         "24"
        ],
        [
         "Press_kPa",
         "518"
        ],
        [
         "Weather",
         "50"
        ]
       ],
       "shape": {
        "columns": 1,
        "rows": 8
       }
      },
      "text/plain": [
       "Date/Time           8784\n",
       "Temp_C               533\n",
       "Dew Point Temp_C     489\n",
       "Rel Hum_%             83\n",
       "Wind Speed_km/h       34\n",
       "Visibility_km         24\n",
       "Press_kPa            518\n",
       "Weather               50\n",
       "dtype: int64"
      ]
     },
     "execution_count": 23,
     "metadata": {},
     "output_type": "execute_result"
    }
   ],
   "source": [
    "data.nunique()"
   ]
  },
  {
   "cell_type": "code",
   "execution_count": 26,
   "metadata": {},
   "outputs": [
    {
     "data": {
      "text/plain": [
       "array([ 4,  7,  6,  9, 15, 13, 20, 22, 19, 24, 30, 35, 39, 32, 33, 26, 44,\n",
       "       43, 48, 37, 28, 17, 11,  0, 83, 70, 57, 46, 41, 52, 50, 63, 54,  2])"
      ]
     },
     "execution_count": 26,
     "metadata": {},
     "output_type": "execute_result"
    }
   ],
   "source": [
    "data['Wind Speed_km/h'].unique() # Answer"
   ]
  },
  {
   "cell_type": "markdown",
   "metadata": {},
   "source": [
    "### Q2. Find the number of times when the 'Weather is exactly Clear'."
   ]
  },
  {
   "cell_type": "code",
   "execution_count": 27,
   "metadata": {},
   "outputs": [
    {
     "data": {
      "application/vnd.microsoft.datawrangler.viewer.v0+json": {
       "columns": [
        {
         "name": "index",
         "rawType": "int64",
         "type": "integer"
        },
        {
         "name": "Date/Time",
         "rawType": "object",
         "type": "string"
        },
        {
         "name": "Temp_C",
         "rawType": "float64",
         "type": "float"
        },
        {
         "name": "Dew Point Temp_C",
         "rawType": "float64",
         "type": "float"
        },
        {
         "name": "Rel Hum_%",
         "rawType": "int64",
         "type": "integer"
        },
        {
         "name": "Wind Speed_km/h",
         "rawType": "int64",
         "type": "integer"
        },
        {
         "name": "Visibility_km",
         "rawType": "float64",
         "type": "float"
        },
        {
         "name": "Press_kPa",
         "rawType": "float64",
         "type": "float"
        },
        {
         "name": "Weather",
         "rawType": "object",
         "type": "string"
        }
       ],
       "ref": "1283f25b-50ff-4960-8e9f-822372ec8517",
       "rows": [
        [
         "0",
         "1/1/2012 0:00",
         "-1.8",
         "-3.9",
         "86",
         "4",
         "8.0",
         "101.24",
         "Fog"
        ],
        [
         "1",
         "1/1/2012 1:00",
         "-1.8",
         "-3.7",
         "87",
         "4",
         "8.0",
         "101.24",
         "Fog"
        ],
        [
         "2",
         "1/1/2012 2:00",
         "-1.8",
         "-3.4",
         "89",
         "7",
         "4.0",
         "101.26",
         "Freezing Drizzle,Fog"
        ],
        [
         "3",
         "1/1/2012 3:00",
         "-1.5",
         "-3.2",
         "88",
         "6",
         "4.0",
         "101.27",
         "Freezing Drizzle,Fog"
        ],
        [
         "4",
         "1/1/2012 4:00",
         "-1.5",
         "-3.3",
         "88",
         "7",
         "4.8",
         "101.23",
         "Fog"
        ]
       ],
       "shape": {
        "columns": 8,
        "rows": 5
       }
      },
      "text/html": [
       "<div>\n",
       "<style scoped>\n",
       "    .dataframe tbody tr th:only-of-type {\n",
       "        vertical-align: middle;\n",
       "    }\n",
       "\n",
       "    .dataframe tbody tr th {\n",
       "        vertical-align: top;\n",
       "    }\n",
       "\n",
       "    .dataframe thead th {\n",
       "        text-align: right;\n",
       "    }\n",
       "</style>\n",
       "<table border=\"1\" class=\"dataframe\">\n",
       "  <thead>\n",
       "    <tr style=\"text-align: right;\">\n",
       "      <th></th>\n",
       "      <th>Date/Time</th>\n",
       "      <th>Temp_C</th>\n",
       "      <th>Dew Point Temp_C</th>\n",
       "      <th>Rel Hum_%</th>\n",
       "      <th>Wind Speed_km/h</th>\n",
       "      <th>Visibility_km</th>\n",
       "      <th>Press_kPa</th>\n",
       "      <th>Weather</th>\n",
       "    </tr>\n",
       "  </thead>\n",
       "  <tbody>\n",
       "    <tr>\n",
       "      <th>0</th>\n",
       "      <td>1/1/2012 0:00</td>\n",
       "      <td>-1.8</td>\n",
       "      <td>-3.9</td>\n",
       "      <td>86</td>\n",
       "      <td>4</td>\n",
       "      <td>8.0</td>\n",
       "      <td>101.24</td>\n",
       "      <td>Fog</td>\n",
       "    </tr>\n",
       "    <tr>\n",
       "      <th>1</th>\n",
       "      <td>1/1/2012 1:00</td>\n",
       "      <td>-1.8</td>\n",
       "      <td>-3.7</td>\n",
       "      <td>87</td>\n",
       "      <td>4</td>\n",
       "      <td>8.0</td>\n",
       "      <td>101.24</td>\n",
       "      <td>Fog</td>\n",
       "    </tr>\n",
       "    <tr>\n",
       "      <th>2</th>\n",
       "      <td>1/1/2012 2:00</td>\n",
       "      <td>-1.8</td>\n",
       "      <td>-3.4</td>\n",
       "      <td>89</td>\n",
       "      <td>7</td>\n",
       "      <td>4.0</td>\n",
       "      <td>101.26</td>\n",
       "      <td>Freezing Drizzle,Fog</td>\n",
       "    </tr>\n",
       "    <tr>\n",
       "      <th>3</th>\n",
       "      <td>1/1/2012 3:00</td>\n",
       "      <td>-1.5</td>\n",
       "      <td>-3.2</td>\n",
       "      <td>88</td>\n",
       "      <td>6</td>\n",
       "      <td>4.0</td>\n",
       "      <td>101.27</td>\n",
       "      <td>Freezing Drizzle,Fog</td>\n",
       "    </tr>\n",
       "    <tr>\n",
       "      <th>4</th>\n",
       "      <td>1/1/2012 4:00</td>\n",
       "      <td>-1.5</td>\n",
       "      <td>-3.3</td>\n",
       "      <td>88</td>\n",
       "      <td>7</td>\n",
       "      <td>4.8</td>\n",
       "      <td>101.23</td>\n",
       "      <td>Fog</td>\n",
       "    </tr>\n",
       "  </tbody>\n",
       "</table>\n",
       "</div>"
      ],
      "text/plain": [
       "       Date/Time  Temp_C  Dew Point Temp_C  Rel Hum_%  Wind Speed_km/h  \\\n",
       "0  1/1/2012 0:00    -1.8              -3.9         86                4   \n",
       "1  1/1/2012 1:00    -1.8              -3.7         87                4   \n",
       "2  1/1/2012 2:00    -1.8              -3.4         89                7   \n",
       "3  1/1/2012 3:00    -1.5              -3.2         88                6   \n",
       "4  1/1/2012 4:00    -1.5              -3.3         88                7   \n",
       "\n",
       "   Visibility_km  Press_kPa               Weather  \n",
       "0            8.0     101.24                   Fog  \n",
       "1            8.0     101.24                   Fog  \n",
       "2            4.0     101.26  Freezing Drizzle,Fog  \n",
       "3            4.0     101.27  Freezing Drizzle,Fog  \n",
       "4            4.8     101.23                   Fog  "
      ]
     },
     "execution_count": 27,
     "metadata": {},
     "output_type": "execute_result"
    }
   ],
   "source": [
    "data.head()"
   ]
  },
  {
   "cell_type": "code",
   "execution_count": null,
   "metadata": {},
   "outputs": [
    {
     "data": {
      "application/vnd.microsoft.datawrangler.viewer.v0+json": {
       "columns": [
        {
         "name": "Weather",
         "rawType": "object",
         "type": "string"
        },
        {
         "name": "count",
         "rawType": "int64",
         "type": "integer"
        }
       ],
       "ref": "063b81d9-79df-4fe9-a9e3-8d961ca7e9f9",
       "rows": [
        [
         "Mainly Clear",
         "2106"
        ],
        [
         "Mostly Cloudy",
         "2069"
        ],
        [
         "Cloudy",
         "1728"
        ],
        [
         "Clear",
         "1326"
        ],
        [
         "Snow",
         "390"
        ],
        [
         "Rain",
         "306"
        ],
        [
         "Rain Showers",
         "188"
        ],
        [
         "Fog",
         "150"
        ],
        [
         "Rain,Fog",
         "116"
        ],
        [
         "Drizzle,Fog",
         "80"
        ],
        [
         "Snow Showers",
         "60"
        ],
        [
         "Drizzle",
         "41"
        ],
        [
         "Snow,Fog",
         "37"
        ],
        [
         "Snow,Blowing Snow",
         "19"
        ],
        [
         "Rain,Snow",
         "18"
        ],
        [
         "Thunderstorms,Rain Showers",
         "16"
        ],
        [
         "Haze",
         "16"
        ],
        [
         "Drizzle,Snow,Fog",
         "15"
        ],
        [
         "Freezing Rain",
         "14"
        ],
        [
         "Freezing Drizzle,Snow",
         "11"
        ],
        [
         "Freezing Drizzle",
         "7"
        ],
        [
         "Snow,Ice Pellets",
         "6"
        ],
        [
         "Freezing Drizzle,Fog",
         "6"
        ],
        [
         "Snow,Haze",
         "5"
        ],
        [
         "Freezing Fog",
         "4"
        ],
        [
         "Snow Showers,Fog",
         "4"
        ],
        [
         "Moderate Snow",
         "4"
        ],
        [
         "Rain,Snow,Ice Pellets",
         "4"
        ],
        [
         "Freezing Rain,Fog",
         "4"
        ],
        [
         "Freezing Drizzle,Haze",
         "3"
        ],
        [
         "Rain,Haze",
         "3"
        ],
        [
         "Thunderstorms,Rain",
         "3"
        ],
        [
         "Thunderstorms,Rain Showers,Fog",
         "3"
        ],
        [
         "Freezing Rain,Haze",
         "2"
        ],
        [
         "Drizzle,Snow",
         "2"
        ],
        [
         "Rain Showers,Snow Showers",
         "2"
        ],
        [
         "Thunderstorms",
         "2"
        ],
        [
         "Moderate Snow,Blowing Snow",
         "2"
        ],
        [
         "Rain Showers,Fog",
         "1"
        ],
        [
         "Thunderstorms,Moderate Rain Showers,Fog",
         "1"
        ],
        [
         "Snow Pellets",
         "1"
        ],
        [
         "Rain,Snow,Fog",
         "1"
        ],
        [
         "Moderate Rain,Fog",
         "1"
        ],
        [
         "Freezing Rain,Ice Pellets,Fog",
         "1"
        ],
        [
         "Drizzle,Ice Pellets,Fog",
         "1"
        ],
        [
         "Thunderstorms,Rain,Fog",
         "1"
        ],
        [
         "Rain,Ice Pellets",
         "1"
        ],
        [
         "Rain,Snow Grains",
         "1"
        ],
        [
         "Thunderstorms,Heavy Rain Showers",
         "1"
        ],
        [
         "Freezing Rain,Snow Grains",
         "1"
        ]
       ],
       "shape": {
        "columns": 1,
        "rows": 50
       }
      },
      "text/plain": [
       "Weather\n",
       "Mainly Clear                               2106\n",
       "Mostly Cloudy                              2069\n",
       "Cloudy                                     1728\n",
       "Clear                                      1326\n",
       "Snow                                        390\n",
       "Rain                                        306\n",
       "Rain Showers                                188\n",
       "Fog                                         150\n",
       "Rain,Fog                                    116\n",
       "Drizzle,Fog                                  80\n",
       "Snow Showers                                 60\n",
       "Drizzle                                      41\n",
       "Snow,Fog                                     37\n",
       "Snow,Blowing Snow                            19\n",
       "Rain,Snow                                    18\n",
       "Thunderstorms,Rain Showers                   16\n",
       "Haze                                         16\n",
       "Drizzle,Snow,Fog                             15\n",
       "Freezing Rain                                14\n",
       "Freezing Drizzle,Snow                        11\n",
       "Freezing Drizzle                              7\n",
       "Snow,Ice Pellets                              6\n",
       "Freezing Drizzle,Fog                          6\n",
       "Snow,Haze                                     5\n",
       "Freezing Fog                                  4\n",
       "Snow Showers,Fog                              4\n",
       "Moderate Snow                                 4\n",
       "Rain,Snow,Ice Pellets                         4\n",
       "Freezing Rain,Fog                             4\n",
       "Freezing Drizzle,Haze                         3\n",
       "Rain,Haze                                     3\n",
       "Thunderstorms,Rain                            3\n",
       "Thunderstorms,Rain Showers,Fog                3\n",
       "Freezing Rain,Haze                            2\n",
       "Drizzle,Snow                                  2\n",
       "Rain Showers,Snow Showers                     2\n",
       "Thunderstorms                                 2\n",
       "Moderate Snow,Blowing Snow                    2\n",
       "Rain Showers,Fog                              1\n",
       "Thunderstorms,Moderate Rain Showers,Fog       1\n",
       "Snow Pellets                                  1\n",
       "Rain,Snow,Fog                                 1\n",
       "Moderate Rain,Fog                             1\n",
       "Freezing Rain,Ice Pellets,Fog                 1\n",
       "Drizzle,Ice Pellets,Fog                       1\n",
       "Thunderstorms,Rain,Fog                        1\n",
       "Rain,Ice Pellets                              1\n",
       "Rain,Snow Grains                              1\n",
       "Thunderstorms,Heavy Rain Showers              1\n",
       "Freezing Rain,Snow Grains                     1\n",
       "Name: count, dtype: int64"
      ]
     },
     "execution_count": 28,
     "metadata": {},
     "output_type": "execute_result"
    }
   ],
   "source": [
    "data.Weather.value_counts() # First Way To Answer"
   ]
  },
  {
   "cell_type": "code",
   "execution_count": null,
   "metadata": {},
   "outputs": [
    {
     "data": {
      "application/vnd.microsoft.datawrangler.viewer.v0+json": {
       "columns": [
        {
         "name": "index",
         "rawType": "int64",
         "type": "integer"
        },
        {
         "name": "Date/Time",
         "rawType": "object",
         "type": "string"
        },
        {
         "name": "Temp_C",
         "rawType": "float64",
         "type": "float"
        },
        {
         "name": "Dew Point Temp_C",
         "rawType": "float64",
         "type": "float"
        },
        {
         "name": "Rel Hum_%",
         "rawType": "int64",
         "type": "integer"
        },
        {
         "name": "Wind Speed_km/h",
         "rawType": "int64",
         "type": "integer"
        },
        {
         "name": "Visibility_km",
         "rawType": "float64",
         "type": "float"
        },
        {
         "name": "Press_kPa",
         "rawType": "float64",
         "type": "float"
        },
        {
         "name": "Weather",
         "rawType": "object",
         "type": "string"
        }
       ],
       "ref": "58fca04c-b223-4e96-bf34-de9fa6526fc9",
       "rows": [
        [
         "67",
         "1/3/2012 19:00",
         "-16.9",
         "-24.8",
         "50",
         "24",
         "25.0",
         "101.74",
         "Clear"
        ],
        [
         "114",
         "1/5/2012 18:00",
         "-7.1",
         "-14.4",
         "56",
         "11",
         "25.0",
         "100.71",
         "Clear"
        ],
        [
         "115",
         "1/5/2012 19:00",
         "-9.2",
         "-15.4",
         "61",
         "7",
         "25.0",
         "100.8",
         "Clear"
        ],
        [
         "116",
         "1/5/2012 20:00",
         "-9.8",
         "-15.7",
         "62",
         "9",
         "25.0",
         "100.83",
         "Clear"
        ],
        [
         "117",
         "1/5/2012 21:00",
         "-9.0",
         "-14.8",
         "63",
         "13",
         "25.0",
         "100.83",
         "Clear"
        ],
        [
         "241",
         "1/11/2012 1:00",
         "-10.7",
         "-17.8",
         "56",
         "17",
         "25.0",
         "101.49",
         "Clear"
        ],
        [
         "242",
         "1/11/2012 2:00",
         "-12.0",
         "-18.9",
         "56",
         "19",
         "25.0",
         "101.57",
         "Clear"
        ],
        [
         "243",
         "1/11/2012 3:00",
         "-12.7",
         "-19.4",
         "57",
         "19",
         "25.0",
         "101.64",
         "Clear"
        ],
        [
         "244",
         "1/11/2012 4:00",
         "-13.4",
         "-20.1",
         "57",
         "17",
         "25.0",
         "101.66",
         "Clear"
        ],
        [
         "344",
         "1/15/2012 8:00",
         "-23.3",
         "-28.5",
         "62",
         "7",
         "24.1",
         "102.45",
         "Clear"
        ],
        [
         "351",
         "1/15/2012 15:00",
         "-15.4",
         "-22.8",
         "53",
         "24",
         "48.3",
         "102.71",
         "Clear"
        ],
        [
         "352",
         "1/15/2012 16:00",
         "-15.1",
         "-22.8",
         "52",
         "24",
         "48.3",
         "102.79",
         "Clear"
        ],
        [
         "353",
         "1/15/2012 17:00",
         "-16.2",
         "-23.2",
         "55",
         "15",
         "25.0",
         "102.85",
         "Clear"
        ],
        [
         "354",
         "1/15/2012 18:00",
         "-16.3",
         "-22.9",
         "57",
         "17",
         "25.0",
         "102.89",
         "Clear"
        ],
        [
         "355",
         "1/15/2012 19:00",
         "-16.3",
         "-22.7",
         "58",
         "20",
         "25.0",
         "102.94",
         "Clear"
        ],
        [
         "356",
         "1/15/2012 20:00",
         "-16.7",
         "-22.4",
         "61",
         "17",
         "25.0",
         "102.98",
         "Clear"
        ],
        [
         "357",
         "1/15/2012 21:00",
         "-16.9",
         "-22.2",
         "63",
         "15",
         "25.0",
         "103.02",
         "Clear"
        ],
        [
         "358",
         "1/15/2012 22:00",
         "-16.9",
         "-21.7",
         "66",
         "17",
         "25.0",
         "103.07",
         "Clear"
        ],
        [
         "359",
         "1/15/2012 23:00",
         "-16.9",
         "-21.4",
         "68",
         "15",
         "25.0",
         "103.09",
         "Clear"
        ],
        [
         "360",
         "1/16/2012 0:00",
         "-17.1",
         "-21.9",
         "66",
         "15",
         "25.0",
         "103.09",
         "Clear"
        ],
        [
         "361",
         "1/16/2012 1:00",
         "-17.8",
         "-22.7",
         "65",
         "6",
         "25.0",
         "103.05",
         "Clear"
        ],
        [
         "362",
         "1/16/2012 2:00",
         "-18.5",
         "-23.0",
         "68",
         "6",
         "25.0",
         "103.08",
         "Clear"
        ],
        [
         "363",
         "1/16/2012 3:00",
         "-19.2",
         "-23.8",
         "67",
         "6",
         "25.0",
         "103.07",
         "Clear"
        ],
        [
         "364",
         "1/16/2012 4:00",
         "-18.7",
         "-23.5",
         "66",
         "0",
         "25.0",
         "103.05",
         "Clear"
        ],
        [
         "365",
         "1/16/2012 5:00",
         "-19.1",
         "-23.3",
         "69",
         "0",
         "25.0",
         "103.02",
         "Clear"
        ],
        [
         "366",
         "1/16/2012 6:00",
         "-18.7",
         "-23.2",
         "68",
         "0",
         "25.0",
         "103.01",
         "Clear"
        ],
        [
         "425",
         "1/18/2012 17:00",
         "-11.3",
         "-18.8",
         "54",
         "26",
         "48.3",
         "101.54",
         "Clear"
        ],
        [
         "426",
         "1/18/2012 18:00",
         "-12.0",
         "-18.2",
         "60",
         "22",
         "25.0",
         "101.67",
         "Clear"
        ],
        [
         "427",
         "1/18/2012 19:00",
         "-12.7",
         "-18.7",
         "61",
         "22",
         "25.0",
         "101.78",
         "Clear"
        ],
        [
         "428",
         "1/18/2012 20:00",
         "-13.4",
         "-19.2",
         "62",
         "17",
         "25.0",
         "101.83",
         "Clear"
        ],
        [
         "429",
         "1/18/2012 21:00",
         "-13.7",
         "-19.3",
         "63",
         "17",
         "25.0",
         "101.89",
         "Clear"
        ],
        [
         "430",
         "1/18/2012 22:00",
         "-14.2",
         "-19.8",
         "62",
         "13",
         "25.0",
         "101.92",
         "Clear"
        ],
        [
         "431",
         "1/18/2012 23:00",
         "-14.9",
         "-19.9",
         "66",
         "6",
         "25.0",
         "101.93",
         "Clear"
        ],
        [
         "432",
         "1/19/2012 0:00",
         "-16.6",
         "-20.9",
         "69",
         "7",
         "25.0",
         "101.94",
         "Clear"
        ],
        [
         "433",
         "1/19/2012 1:00",
         "-15.2",
         "-18.4",
         "76",
         "4",
         "25.0",
         "101.89",
         "Clear"
        ],
        [
         "434",
         "1/19/2012 2:00",
         "-14.3",
         "-17.4",
         "77",
         "6",
         "25.0",
         "101.86",
         "Clear"
        ],
        [
         "435",
         "1/19/2012 3:00",
         "-18.0",
         "-21.6",
         "73",
         "6",
         "25.0",
         "101.83",
         "Clear"
        ],
        [
         "436",
         "1/19/2012 4:00",
         "-15.4",
         "-18.3",
         "78",
         "7",
         "25.0",
         "101.81",
         "Clear"
        ],
        [
         "437",
         "1/19/2012 5:00",
         "-16.6",
         "-19.9",
         "76",
         "6",
         "25.0",
         "101.85",
         "Clear"
        ],
        [
         "438",
         "1/19/2012 6:00",
         "-15.3",
         "-19.7",
         "69",
         "6",
         "25.0",
         "101.83",
         "Clear"
        ],
        [
         "439",
         "1/19/2012 7:00",
         "-14.6",
         "-19.2",
         "68",
         "6",
         "24.1",
         "101.84",
         "Clear"
        ],
        [
         "440",
         "1/19/2012 8:00",
         "-13.7",
         "-18.4",
         "68",
         "19",
         "48.3",
         "101.84",
         "Clear"
        ],
        [
         "441",
         "1/19/2012 9:00",
         "-12.7",
         "-17.2",
         "69",
         "17",
         "48.3",
         "101.73",
         "Clear"
        ],
        [
         "465",
         "1/20/2012 9:00",
         "-12.2",
         "-18.1",
         "61",
         "32",
         "24.1",
         "101.59",
         "Clear"
        ],
        [
         "467",
         "1/20/2012 11:00",
         "-14.2",
         "-21.2",
         "55",
         "32",
         "24.1",
         "101.84",
         "Clear"
        ],
        [
         "468",
         "1/20/2012 12:00",
         "-15.2",
         "-22.1",
         "56",
         "30",
         "24.1",
         "101.88",
         "Clear"
        ],
        [
         "469",
         "1/20/2012 13:00",
         "-15.8",
         "-23.7",
         "51",
         "30",
         "24.1",
         "101.96",
         "Clear"
        ],
        [
         "494",
         "1/21/2012 14:00",
         "-12.5",
         "-19.7",
         "55",
         "13",
         "24.1",
         "102.01",
         "Clear"
        ],
        [
         "495",
         "1/21/2012 15:00",
         "-11.8",
         "-18.9",
         "56",
         "11",
         "24.1",
         "102.06",
         "Clear"
        ],
        [
         "496",
         "1/21/2012 16:00",
         "-11.6",
         "-18.8",
         "55",
         "7",
         "48.3",
         "102.11",
         "Clear"
        ]
       ],
       "shape": {
        "columns": 8,
        "rows": 1326
       }
      },
      "text/html": [
       "<div>\n",
       "<style scoped>\n",
       "    .dataframe tbody tr th:only-of-type {\n",
       "        vertical-align: middle;\n",
       "    }\n",
       "\n",
       "    .dataframe tbody tr th {\n",
       "        vertical-align: top;\n",
       "    }\n",
       "\n",
       "    .dataframe thead th {\n",
       "        text-align: right;\n",
       "    }\n",
       "</style>\n",
       "<table border=\"1\" class=\"dataframe\">\n",
       "  <thead>\n",
       "    <tr style=\"text-align: right;\">\n",
       "      <th></th>\n",
       "      <th>Date/Time</th>\n",
       "      <th>Temp_C</th>\n",
       "      <th>Dew Point Temp_C</th>\n",
       "      <th>Rel Hum_%</th>\n",
       "      <th>Wind Speed_km/h</th>\n",
       "      <th>Visibility_km</th>\n",
       "      <th>Press_kPa</th>\n",
       "      <th>Weather</th>\n",
       "    </tr>\n",
       "  </thead>\n",
       "  <tbody>\n",
       "    <tr>\n",
       "      <th>67</th>\n",
       "      <td>1/3/2012 19:00</td>\n",
       "      <td>-16.9</td>\n",
       "      <td>-24.8</td>\n",
       "      <td>50</td>\n",
       "      <td>24</td>\n",
       "      <td>25.0</td>\n",
       "      <td>101.74</td>\n",
       "      <td>Clear</td>\n",
       "    </tr>\n",
       "    <tr>\n",
       "      <th>114</th>\n",
       "      <td>1/5/2012 18:00</td>\n",
       "      <td>-7.1</td>\n",
       "      <td>-14.4</td>\n",
       "      <td>56</td>\n",
       "      <td>11</td>\n",
       "      <td>25.0</td>\n",
       "      <td>100.71</td>\n",
       "      <td>Clear</td>\n",
       "    </tr>\n",
       "    <tr>\n",
       "      <th>115</th>\n",
       "      <td>1/5/2012 19:00</td>\n",
       "      <td>-9.2</td>\n",
       "      <td>-15.4</td>\n",
       "      <td>61</td>\n",
       "      <td>7</td>\n",
       "      <td>25.0</td>\n",
       "      <td>100.80</td>\n",
       "      <td>Clear</td>\n",
       "    </tr>\n",
       "    <tr>\n",
       "      <th>116</th>\n",
       "      <td>1/5/2012 20:00</td>\n",
       "      <td>-9.8</td>\n",
       "      <td>-15.7</td>\n",
       "      <td>62</td>\n",
       "      <td>9</td>\n",
       "      <td>25.0</td>\n",
       "      <td>100.83</td>\n",
       "      <td>Clear</td>\n",
       "    </tr>\n",
       "    <tr>\n",
       "      <th>117</th>\n",
       "      <td>1/5/2012 21:00</td>\n",
       "      <td>-9.0</td>\n",
       "      <td>-14.8</td>\n",
       "      <td>63</td>\n",
       "      <td>13</td>\n",
       "      <td>25.0</td>\n",
       "      <td>100.83</td>\n",
       "      <td>Clear</td>\n",
       "    </tr>\n",
       "    <tr>\n",
       "      <th>...</th>\n",
       "      <td>...</td>\n",
       "      <td>...</td>\n",
       "      <td>...</td>\n",
       "      <td>...</td>\n",
       "      <td>...</td>\n",
       "      <td>...</td>\n",
       "      <td>...</td>\n",
       "      <td>...</td>\n",
       "    </tr>\n",
       "    <tr>\n",
       "      <th>8646</th>\n",
       "      <td>12/26/2012 6:00</td>\n",
       "      <td>-13.4</td>\n",
       "      <td>-14.8</td>\n",
       "      <td>89</td>\n",
       "      <td>4</td>\n",
       "      <td>25.0</td>\n",
       "      <td>102.47</td>\n",
       "      <td>Clear</td>\n",
       "    </tr>\n",
       "    <tr>\n",
       "      <th>8698</th>\n",
       "      <td>12/28/2012 10:00</td>\n",
       "      <td>-6.1</td>\n",
       "      <td>-8.6</td>\n",
       "      <td>82</td>\n",
       "      <td>19</td>\n",
       "      <td>24.1</td>\n",
       "      <td>101.27</td>\n",
       "      <td>Clear</td>\n",
       "    </tr>\n",
       "    <tr>\n",
       "      <th>8713</th>\n",
       "      <td>12/29/2012 1:00</td>\n",
       "      <td>-11.9</td>\n",
       "      <td>-13.6</td>\n",
       "      <td>87</td>\n",
       "      <td>11</td>\n",
       "      <td>25.0</td>\n",
       "      <td>101.31</td>\n",
       "      <td>Clear</td>\n",
       "    </tr>\n",
       "    <tr>\n",
       "      <th>8714</th>\n",
       "      <td>12/29/2012 2:00</td>\n",
       "      <td>-11.8</td>\n",
       "      <td>-13.1</td>\n",
       "      <td>90</td>\n",
       "      <td>13</td>\n",
       "      <td>25.0</td>\n",
       "      <td>101.33</td>\n",
       "      <td>Clear</td>\n",
       "    </tr>\n",
       "    <tr>\n",
       "      <th>8756</th>\n",
       "      <td>12/30/2012 20:00</td>\n",
       "      <td>-13.8</td>\n",
       "      <td>-16.5</td>\n",
       "      <td>80</td>\n",
       "      <td>24</td>\n",
       "      <td>25.0</td>\n",
       "      <td>101.52</td>\n",
       "      <td>Clear</td>\n",
       "    </tr>\n",
       "  </tbody>\n",
       "</table>\n",
       "<p>1326 rows × 8 columns</p>\n",
       "</div>"
      ],
      "text/plain": [
       "             Date/Time  Temp_C  Dew Point Temp_C  Rel Hum_%  Wind Speed_km/h  \\\n",
       "67      1/3/2012 19:00   -16.9             -24.8         50               24   \n",
       "114     1/5/2012 18:00    -7.1             -14.4         56               11   \n",
       "115     1/5/2012 19:00    -9.2             -15.4         61                7   \n",
       "116     1/5/2012 20:00    -9.8             -15.7         62                9   \n",
       "117     1/5/2012 21:00    -9.0             -14.8         63               13   \n",
       "...                ...     ...               ...        ...              ...   \n",
       "8646   12/26/2012 6:00   -13.4             -14.8         89                4   \n",
       "8698  12/28/2012 10:00    -6.1              -8.6         82               19   \n",
       "8713   12/29/2012 1:00   -11.9             -13.6         87               11   \n",
       "8714   12/29/2012 2:00   -11.8             -13.1         90               13   \n",
       "8756  12/30/2012 20:00   -13.8             -16.5         80               24   \n",
       "\n",
       "      Visibility_km  Press_kPa Weather  \n",
       "67             25.0     101.74   Clear  \n",
       "114            25.0     100.71   Clear  \n",
       "115            25.0     100.80   Clear  \n",
       "116            25.0     100.83   Clear  \n",
       "117            25.0     100.83   Clear  \n",
       "...             ...        ...     ...  \n",
       "8646           25.0     102.47   Clear  \n",
       "8698           24.1     101.27   Clear  \n",
       "8713           25.0     101.31   Clear  \n",
       "8714           25.0     101.33   Clear  \n",
       "8756           25.0     101.52   Clear  \n",
       "\n",
       "[1326 rows x 8 columns]"
      ]
     },
     "execution_count": 30,
     "metadata": {},
     "output_type": "execute_result"
    }
   ],
   "source": [
    "data[data.Weather == 'Clear'] # Second Way To Answer"
   ]
  },
  {
   "cell_type": "code",
   "execution_count": null,
   "metadata": {},
   "outputs": [
    {
     "data": {
      "application/vnd.microsoft.datawrangler.viewer.v0+json": {
       "columns": [
        {
         "name": "index",
         "rawType": "int64",
         "type": "integer"
        },
        {
         "name": "Date/Time",
         "rawType": "object",
         "type": "string"
        },
        {
         "name": "Temp_C",
         "rawType": "float64",
         "type": "float"
        },
        {
         "name": "Dew Point Temp_C",
         "rawType": "float64",
         "type": "float"
        },
        {
         "name": "Rel Hum_%",
         "rawType": "int64",
         "type": "integer"
        },
        {
         "name": "Wind Speed_km/h",
         "rawType": "int64",
         "type": "integer"
        },
        {
         "name": "Visibility_km",
         "rawType": "float64",
         "type": "float"
        },
        {
         "name": "Press_kPa",
         "rawType": "float64",
         "type": "float"
        },
        {
         "name": "Weather",
         "rawType": "object",
         "type": "string"
        }
       ],
       "ref": "0976eedf-090e-4bf6-b5c6-a3e53757d0db",
       "rows": [
        [
         "67",
         "1/3/2012 19:00",
         "-16.9",
         "-24.8",
         "50",
         "24",
         "25.0",
         "101.74",
         "Clear"
        ],
        [
         "114",
         "1/5/2012 18:00",
         "-7.1",
         "-14.4",
         "56",
         "11",
         "25.0",
         "100.71",
         "Clear"
        ],
        [
         "115",
         "1/5/2012 19:00",
         "-9.2",
         "-15.4",
         "61",
         "7",
         "25.0",
         "100.8",
         "Clear"
        ],
        [
         "116",
         "1/5/2012 20:00",
         "-9.8",
         "-15.7",
         "62",
         "9",
         "25.0",
         "100.83",
         "Clear"
        ],
        [
         "117",
         "1/5/2012 21:00",
         "-9.0",
         "-14.8",
         "63",
         "13",
         "25.0",
         "100.83",
         "Clear"
        ],
        [
         "241",
         "1/11/2012 1:00",
         "-10.7",
         "-17.8",
         "56",
         "17",
         "25.0",
         "101.49",
         "Clear"
        ],
        [
         "242",
         "1/11/2012 2:00",
         "-12.0",
         "-18.9",
         "56",
         "19",
         "25.0",
         "101.57",
         "Clear"
        ],
        [
         "243",
         "1/11/2012 3:00",
         "-12.7",
         "-19.4",
         "57",
         "19",
         "25.0",
         "101.64",
         "Clear"
        ],
        [
         "244",
         "1/11/2012 4:00",
         "-13.4",
         "-20.1",
         "57",
         "17",
         "25.0",
         "101.66",
         "Clear"
        ],
        [
         "344",
         "1/15/2012 8:00",
         "-23.3",
         "-28.5",
         "62",
         "7",
         "24.1",
         "102.45",
         "Clear"
        ],
        [
         "351",
         "1/15/2012 15:00",
         "-15.4",
         "-22.8",
         "53",
         "24",
         "48.3",
         "102.71",
         "Clear"
        ],
        [
         "352",
         "1/15/2012 16:00",
         "-15.1",
         "-22.8",
         "52",
         "24",
         "48.3",
         "102.79",
         "Clear"
        ],
        [
         "353",
         "1/15/2012 17:00",
         "-16.2",
         "-23.2",
         "55",
         "15",
         "25.0",
         "102.85",
         "Clear"
        ],
        [
         "354",
         "1/15/2012 18:00",
         "-16.3",
         "-22.9",
         "57",
         "17",
         "25.0",
         "102.89",
         "Clear"
        ],
        [
         "355",
         "1/15/2012 19:00",
         "-16.3",
         "-22.7",
         "58",
         "20",
         "25.0",
         "102.94",
         "Clear"
        ],
        [
         "356",
         "1/15/2012 20:00",
         "-16.7",
         "-22.4",
         "61",
         "17",
         "25.0",
         "102.98",
         "Clear"
        ],
        [
         "357",
         "1/15/2012 21:00",
         "-16.9",
         "-22.2",
         "63",
         "15",
         "25.0",
         "103.02",
         "Clear"
        ],
        [
         "358",
         "1/15/2012 22:00",
         "-16.9",
         "-21.7",
         "66",
         "17",
         "25.0",
         "103.07",
         "Clear"
        ],
        [
         "359",
         "1/15/2012 23:00",
         "-16.9",
         "-21.4",
         "68",
         "15",
         "25.0",
         "103.09",
         "Clear"
        ],
        [
         "360",
         "1/16/2012 0:00",
         "-17.1",
         "-21.9",
         "66",
         "15",
         "25.0",
         "103.09",
         "Clear"
        ],
        [
         "361",
         "1/16/2012 1:00",
         "-17.8",
         "-22.7",
         "65",
         "6",
         "25.0",
         "103.05",
         "Clear"
        ],
        [
         "362",
         "1/16/2012 2:00",
         "-18.5",
         "-23.0",
         "68",
         "6",
         "25.0",
         "103.08",
         "Clear"
        ],
        [
         "363",
         "1/16/2012 3:00",
         "-19.2",
         "-23.8",
         "67",
         "6",
         "25.0",
         "103.07",
         "Clear"
        ],
        [
         "364",
         "1/16/2012 4:00",
         "-18.7",
         "-23.5",
         "66",
         "0",
         "25.0",
         "103.05",
         "Clear"
        ],
        [
         "365",
         "1/16/2012 5:00",
         "-19.1",
         "-23.3",
         "69",
         "0",
         "25.0",
         "103.02",
         "Clear"
        ],
        [
         "366",
         "1/16/2012 6:00",
         "-18.7",
         "-23.2",
         "68",
         "0",
         "25.0",
         "103.01",
         "Clear"
        ],
        [
         "425",
         "1/18/2012 17:00",
         "-11.3",
         "-18.8",
         "54",
         "26",
         "48.3",
         "101.54",
         "Clear"
        ],
        [
         "426",
         "1/18/2012 18:00",
         "-12.0",
         "-18.2",
         "60",
         "22",
         "25.0",
         "101.67",
         "Clear"
        ],
        [
         "427",
         "1/18/2012 19:00",
         "-12.7",
         "-18.7",
         "61",
         "22",
         "25.0",
         "101.78",
         "Clear"
        ],
        [
         "428",
         "1/18/2012 20:00",
         "-13.4",
         "-19.2",
         "62",
         "17",
         "25.0",
         "101.83",
         "Clear"
        ],
        [
         "429",
         "1/18/2012 21:00",
         "-13.7",
         "-19.3",
         "63",
         "17",
         "25.0",
         "101.89",
         "Clear"
        ],
        [
         "430",
         "1/18/2012 22:00",
         "-14.2",
         "-19.8",
         "62",
         "13",
         "25.0",
         "101.92",
         "Clear"
        ],
        [
         "431",
         "1/18/2012 23:00",
         "-14.9",
         "-19.9",
         "66",
         "6",
         "25.0",
         "101.93",
         "Clear"
        ],
        [
         "432",
         "1/19/2012 0:00",
         "-16.6",
         "-20.9",
         "69",
         "7",
         "25.0",
         "101.94",
         "Clear"
        ],
        [
         "433",
         "1/19/2012 1:00",
         "-15.2",
         "-18.4",
         "76",
         "4",
         "25.0",
         "101.89",
         "Clear"
        ],
        [
         "434",
         "1/19/2012 2:00",
         "-14.3",
         "-17.4",
         "77",
         "6",
         "25.0",
         "101.86",
         "Clear"
        ],
        [
         "435",
         "1/19/2012 3:00",
         "-18.0",
         "-21.6",
         "73",
         "6",
         "25.0",
         "101.83",
         "Clear"
        ],
        [
         "436",
         "1/19/2012 4:00",
         "-15.4",
         "-18.3",
         "78",
         "7",
         "25.0",
         "101.81",
         "Clear"
        ],
        [
         "437",
         "1/19/2012 5:00",
         "-16.6",
         "-19.9",
         "76",
         "6",
         "25.0",
         "101.85",
         "Clear"
        ],
        [
         "438",
         "1/19/2012 6:00",
         "-15.3",
         "-19.7",
         "69",
         "6",
         "25.0",
         "101.83",
         "Clear"
        ],
        [
         "439",
         "1/19/2012 7:00",
         "-14.6",
         "-19.2",
         "68",
         "6",
         "24.1",
         "101.84",
         "Clear"
        ],
        [
         "440",
         "1/19/2012 8:00",
         "-13.7",
         "-18.4",
         "68",
         "19",
         "48.3",
         "101.84",
         "Clear"
        ],
        [
         "441",
         "1/19/2012 9:00",
         "-12.7",
         "-17.2",
         "69",
         "17",
         "48.3",
         "101.73",
         "Clear"
        ],
        [
         "465",
         "1/20/2012 9:00",
         "-12.2",
         "-18.1",
         "61",
         "32",
         "24.1",
         "101.59",
         "Clear"
        ],
        [
         "467",
         "1/20/2012 11:00",
         "-14.2",
         "-21.2",
         "55",
         "32",
         "24.1",
         "101.84",
         "Clear"
        ],
        [
         "468",
         "1/20/2012 12:00",
         "-15.2",
         "-22.1",
         "56",
         "30",
         "24.1",
         "101.88",
         "Clear"
        ],
        [
         "469",
         "1/20/2012 13:00",
         "-15.8",
         "-23.7",
         "51",
         "30",
         "24.1",
         "101.96",
         "Clear"
        ],
        [
         "494",
         "1/21/2012 14:00",
         "-12.5",
         "-19.7",
         "55",
         "13",
         "24.1",
         "102.01",
         "Clear"
        ],
        [
         "495",
         "1/21/2012 15:00",
         "-11.8",
         "-18.9",
         "56",
         "11",
         "24.1",
         "102.06",
         "Clear"
        ],
        [
         "496",
         "1/21/2012 16:00",
         "-11.6",
         "-18.8",
         "55",
         "7",
         "48.3",
         "102.11",
         "Clear"
        ]
       ],
       "shape": {
        "columns": 8,
        "rows": 1326
       }
      },
      "text/html": [
       "<div>\n",
       "<style scoped>\n",
       "    .dataframe tbody tr th:only-of-type {\n",
       "        vertical-align: middle;\n",
       "    }\n",
       "\n",
       "    .dataframe tbody tr th {\n",
       "        vertical-align: top;\n",
       "    }\n",
       "\n",
       "    .dataframe thead th {\n",
       "        text-align: right;\n",
       "    }\n",
       "</style>\n",
       "<table border=\"1\" class=\"dataframe\">\n",
       "  <thead>\n",
       "    <tr style=\"text-align: right;\">\n",
       "      <th></th>\n",
       "      <th>Date/Time</th>\n",
       "      <th>Temp_C</th>\n",
       "      <th>Dew Point Temp_C</th>\n",
       "      <th>Rel Hum_%</th>\n",
       "      <th>Wind Speed_km/h</th>\n",
       "      <th>Visibility_km</th>\n",
       "      <th>Press_kPa</th>\n",
       "      <th>Weather</th>\n",
       "    </tr>\n",
       "  </thead>\n",
       "  <tbody>\n",
       "    <tr>\n",
       "      <th>67</th>\n",
       "      <td>1/3/2012 19:00</td>\n",
       "      <td>-16.9</td>\n",
       "      <td>-24.8</td>\n",
       "      <td>50</td>\n",
       "      <td>24</td>\n",
       "      <td>25.0</td>\n",
       "      <td>101.74</td>\n",
       "      <td>Clear</td>\n",
       "    </tr>\n",
       "    <tr>\n",
       "      <th>114</th>\n",
       "      <td>1/5/2012 18:00</td>\n",
       "      <td>-7.1</td>\n",
       "      <td>-14.4</td>\n",
       "      <td>56</td>\n",
       "      <td>11</td>\n",
       "      <td>25.0</td>\n",
       "      <td>100.71</td>\n",
       "      <td>Clear</td>\n",
       "    </tr>\n",
       "    <tr>\n",
       "      <th>115</th>\n",
       "      <td>1/5/2012 19:00</td>\n",
       "      <td>-9.2</td>\n",
       "      <td>-15.4</td>\n",
       "      <td>61</td>\n",
       "      <td>7</td>\n",
       "      <td>25.0</td>\n",
       "      <td>100.80</td>\n",
       "      <td>Clear</td>\n",
       "    </tr>\n",
       "    <tr>\n",
       "      <th>116</th>\n",
       "      <td>1/5/2012 20:00</td>\n",
       "      <td>-9.8</td>\n",
       "      <td>-15.7</td>\n",
       "      <td>62</td>\n",
       "      <td>9</td>\n",
       "      <td>25.0</td>\n",
       "      <td>100.83</td>\n",
       "      <td>Clear</td>\n",
       "    </tr>\n",
       "    <tr>\n",
       "      <th>117</th>\n",
       "      <td>1/5/2012 21:00</td>\n",
       "      <td>-9.0</td>\n",
       "      <td>-14.8</td>\n",
       "      <td>63</td>\n",
       "      <td>13</td>\n",
       "      <td>25.0</td>\n",
       "      <td>100.83</td>\n",
       "      <td>Clear</td>\n",
       "    </tr>\n",
       "    <tr>\n",
       "      <th>...</th>\n",
       "      <td>...</td>\n",
       "      <td>...</td>\n",
       "      <td>...</td>\n",
       "      <td>...</td>\n",
       "      <td>...</td>\n",
       "      <td>...</td>\n",
       "      <td>...</td>\n",
       "      <td>...</td>\n",
       "    </tr>\n",
       "    <tr>\n",
       "      <th>8646</th>\n",
       "      <td>12/26/2012 6:00</td>\n",
       "      <td>-13.4</td>\n",
       "      <td>-14.8</td>\n",
       "      <td>89</td>\n",
       "      <td>4</td>\n",
       "      <td>25.0</td>\n",
       "      <td>102.47</td>\n",
       "      <td>Clear</td>\n",
       "    </tr>\n",
       "    <tr>\n",
       "      <th>8698</th>\n",
       "      <td>12/28/2012 10:00</td>\n",
       "      <td>-6.1</td>\n",
       "      <td>-8.6</td>\n",
       "      <td>82</td>\n",
       "      <td>19</td>\n",
       "      <td>24.1</td>\n",
       "      <td>101.27</td>\n",
       "      <td>Clear</td>\n",
       "    </tr>\n",
       "    <tr>\n",
       "      <th>8713</th>\n",
       "      <td>12/29/2012 1:00</td>\n",
       "      <td>-11.9</td>\n",
       "      <td>-13.6</td>\n",
       "      <td>87</td>\n",
       "      <td>11</td>\n",
       "      <td>25.0</td>\n",
       "      <td>101.31</td>\n",
       "      <td>Clear</td>\n",
       "    </tr>\n",
       "    <tr>\n",
       "      <th>8714</th>\n",
       "      <td>12/29/2012 2:00</td>\n",
       "      <td>-11.8</td>\n",
       "      <td>-13.1</td>\n",
       "      <td>90</td>\n",
       "      <td>13</td>\n",
       "      <td>25.0</td>\n",
       "      <td>101.33</td>\n",
       "      <td>Clear</td>\n",
       "    </tr>\n",
       "    <tr>\n",
       "      <th>8756</th>\n",
       "      <td>12/30/2012 20:00</td>\n",
       "      <td>-13.8</td>\n",
       "      <td>-16.5</td>\n",
       "      <td>80</td>\n",
       "      <td>24</td>\n",
       "      <td>25.0</td>\n",
       "      <td>101.52</td>\n",
       "      <td>Clear</td>\n",
       "    </tr>\n",
       "  </tbody>\n",
       "</table>\n",
       "<p>1326 rows × 8 columns</p>\n",
       "</div>"
      ],
      "text/plain": [
       "             Date/Time  Temp_C  Dew Point Temp_C  Rel Hum_%  Wind Speed_km/h  \\\n",
       "67      1/3/2012 19:00   -16.9             -24.8         50               24   \n",
       "114     1/5/2012 18:00    -7.1             -14.4         56               11   \n",
       "115     1/5/2012 19:00    -9.2             -15.4         61                7   \n",
       "116     1/5/2012 20:00    -9.8             -15.7         62                9   \n",
       "117     1/5/2012 21:00    -9.0             -14.8         63               13   \n",
       "...                ...     ...               ...        ...              ...   \n",
       "8646   12/26/2012 6:00   -13.4             -14.8         89                4   \n",
       "8698  12/28/2012 10:00    -6.1              -8.6         82               19   \n",
       "8713   12/29/2012 1:00   -11.9             -13.6         87               11   \n",
       "8714   12/29/2012 2:00   -11.8             -13.1         90               13   \n",
       "8756  12/30/2012 20:00   -13.8             -16.5         80               24   \n",
       "\n",
       "      Visibility_km  Press_kPa Weather  \n",
       "67             25.0     101.74   Clear  \n",
       "114            25.0     100.71   Clear  \n",
       "115            25.0     100.80   Clear  \n",
       "116            25.0     100.83   Clear  \n",
       "117            25.0     100.83   Clear  \n",
       "...             ...        ...     ...  \n",
       "8646           25.0     102.47   Clear  \n",
       "8698           24.1     101.27   Clear  \n",
       "8713           25.0     101.31   Clear  \n",
       "8714           25.0     101.33   Clear  \n",
       "8756           25.0     101.52   Clear  \n",
       "\n",
       "[1326 rows x 8 columns]"
      ]
     },
     "execution_count": 33,
     "metadata": {},
     "output_type": "execute_result"
    }
   ],
   "source": [
    "data.groupby('Weather').get_group('Clear') # Third Way to Answer Question"
   ]
  },
  {
   "cell_type": "markdown",
   "metadata": {},
   "source": [
    "### Q3. Find the number of times when the 'Wind Speed was exactly 4 km/h'."
   ]
  },
  {
   "cell_type": "code",
   "execution_count": null,
   "metadata": {},
   "outputs": [
    {
     "data": {
      "application/vnd.microsoft.datawrangler.viewer.v0+json": {
       "columns": [
        {
         "name": "index",
         "rawType": "int64",
         "type": "integer"
        },
        {
         "name": "Date/Time",
         "rawType": "object",
         "type": "string"
        },
        {
         "name": "Temp_C",
         "rawType": "float64",
         "type": "float"
        },
        {
         "name": "Dew Point Temp_C",
         "rawType": "float64",
         "type": "float"
        },
        {
         "name": "Rel Hum_%",
         "rawType": "int64",
         "type": "integer"
        },
        {
         "name": "Wind Speed_km/h",
         "rawType": "int64",
         "type": "integer"
        },
        {
         "name": "Visibility_km",
         "rawType": "float64",
         "type": "float"
        },
        {
         "name": "Press_kPa",
         "rawType": "float64",
         "type": "float"
        },
        {
         "name": "Weather",
         "rawType": "object",
         "type": "string"
        }
       ],
       "ref": "0e8fc041-9711-4d15-a4d7-3b852cb5374f",
       "rows": [
        [
         "0",
         "1/1/2012 0:00",
         "-1.8",
         "-3.9",
         "86",
         "4",
         "8.0",
         "101.24",
         "Fog"
        ],
        [
         "1",
         "1/1/2012 1:00",
         "-1.8",
         "-3.7",
         "87",
         "4",
         "8.0",
         "101.24",
         "Fog"
        ],
        [
         "96",
         "1/5/2012 0:00",
         "-8.8",
         "-11.7",
         "79",
         "4",
         "9.7",
         "100.32",
         "Snow"
        ],
        [
         "101",
         "1/5/2012 5:00",
         "-7.0",
         "-9.5",
         "82",
         "4",
         "4.0",
         "100.19",
         "Snow"
        ],
        [
         "146",
         "1/7/2012 2:00",
         "-8.1",
         "-11.1",
         "79",
         "4",
         "19.3",
         "100.15",
         "Cloudy"
        ],
        [
         "147",
         "1/7/2012 3:00",
         "-7.8",
         "-10.8",
         "79",
         "4",
         "19.3",
         "100.12",
         "Cloudy"
        ],
        [
         "149",
         "1/7/2012 5:00",
         "-6.9",
         "-9.7",
         "80",
         "4",
         "19.3",
         "100.12",
         "Cloudy"
        ],
        [
         "164",
         "1/7/2012 20:00",
         "-1.8",
         "-3.7",
         "87",
         "4",
         "9.7",
         "100.48",
         "Snow"
        ],
        [
         "166",
         "1/7/2012 22:00",
         "-1.5",
         "-3.0",
         "89",
         "4",
         "4.0",
         "100.54",
         "Fog"
        ],
        [
         "194",
         "1/9/2012 2:00",
         "-9.0",
         "-14.1",
         "66",
         "4",
         "25.0",
         "102.15",
         "Mostly Cloudy"
        ],
        [
         "339",
         "1/15/2012 3:00",
         "-20.7",
         "-26.1",
         "62",
         "4",
         "25.0",
         "102.04",
         "Cloudy"
        ],
        [
         "367",
         "1/16/2012 7:00",
         "-17.9",
         "-21.5",
         "73",
         "4",
         "48.3",
         "102.96",
         "Mainly Clear"
        ],
        [
         "377",
         "1/16/2012 17:00",
         "-7.6",
         "-14.8",
         "56",
         "4",
         "25.0",
         "101.34",
         "Mostly Cloudy"
        ],
        [
         "433",
         "1/19/2012 1:00",
         "-15.2",
         "-18.4",
         "76",
         "4",
         "25.0",
         "101.89",
         "Clear"
        ],
        [
         "499",
         "1/21/2012 19:00",
         "-13.4",
         "-19.9",
         "58",
         "4",
         "25.0",
         "102.27",
         "Clear"
        ],
        [
         "500",
         "1/21/2012 20:00",
         "-18.5",
         "-24.4",
         "60",
         "4",
         "25.0",
         "102.36",
         "Clear"
        ],
        [
         "505",
         "1/22/2012 1:00",
         "-17.5",
         "-21.3",
         "72",
         "4",
         "25.0",
         "102.64",
         "Clear"
        ],
        [
         "512",
         "1/22/2012 8:00",
         "-18.5",
         "-22.0",
         "74",
         "4",
         "24.1",
         "102.98",
         "Mainly Clear"
        ],
        [
         "601",
         "1/26/2012 1:00",
         "-7.0",
         "-12.1",
         "67",
         "4",
         "25.0",
         "101.95",
         "Clear"
        ],
        [
         "661",
         "1/28/2012 13:00",
         "0.9",
         "-3.5",
         "72",
         "4",
         "48.3",
         "100.58",
         "Cloudy"
        ],
        [
         "716",
         "1/30/2012 20:00",
         "-9.5",
         "-16.0",
         "59",
         "4",
         "25.0",
         "101.95",
         "Mainly Clear"
        ],
        [
         "717",
         "1/30/2012 21:00",
         "-8.4",
         "-15.5",
         "57",
         "4",
         "25.0",
         "101.96",
         "Mostly Cloudy"
        ],
        [
         "718",
         "1/30/2012 22:00",
         "-7.8",
         "-15.2",
         "55",
         "4",
         "25.0",
         "101.98",
         "Mostly Cloudy"
        ],
        [
         "764",
         "2/1/2012 20:00",
         "-3.6",
         "-6.4",
         "81",
         "4",
         "4.8",
         "100.85",
         "Snow,Haze"
        ],
        [
         "770",
         "2/2/2012 2:00",
         "-6.3",
         "-9.6",
         "77",
         "4",
         "16.1",
         "101.45",
         "Snow Showers"
        ],
        [
         "772",
         "2/2/2012 4:00",
         "-5.5",
         "-8.8",
         "78",
         "4",
         "16.1",
         "101.59",
         "Snow Showers"
        ],
        [
         "788",
         "2/2/2012 20:00",
         "-8.9",
         "-12.8",
         "73",
         "4",
         "25.0",
         "102.22",
         "Mostly Cloudy"
        ],
        [
         "789",
         "2/2/2012 21:00",
         "-7.2",
         "-11.0",
         "74",
         "4",
         "25.0",
         "102.26",
         "Snow"
        ],
        [
         "792",
         "2/3/2012 0:00",
         "-9.7",
         "-12.5",
         "80",
         "4",
         "25.0",
         "102.33",
         "Mostly Cloudy"
        ],
        [
         "828",
         "2/4/2012 12:00",
         "-6.6",
         "-13.2",
         "59",
         "4",
         "48.3",
         "102.21",
         "Mainly Clear"
        ],
        [
         "846",
         "2/5/2012 6:00",
         "-14.7",
         "-17.5",
         "79",
         "4",
         "19.3",
         "101.93",
         "Clear"
        ],
        [
         "847",
         "2/5/2012 7:00",
         "-15.7",
         "-18.6",
         "78",
         "4",
         "24.1",
         "101.93",
         "Clear"
        ],
        [
         "848",
         "2/5/2012 8:00",
         "-15.0",
         "-17.5",
         "81",
         "4",
         "24.1",
         "101.95",
         "Clear"
        ],
        [
         "912",
         "2/8/2012 0:00",
         "-13.8",
         "-21.5",
         "52",
         "4",
         "25.0",
         "102.21",
         "Clear"
        ],
        [
         "916",
         "2/8/2012 4:00",
         "-14.0",
         "-21.0",
         "55",
         "4",
         "25.0",
         "102.13",
         "Clear"
        ],
        [
         "1001",
         "2/11/2012 17:00",
         "-10.5",
         "-17.0",
         "59",
         "4",
         "25.0",
         "100.68",
         "Mainly Clear"
        ],
        [
         "1002",
         "2/11/2012 18:00",
         "-12.8",
         "-17.9",
         "66",
         "4",
         "25.0",
         "100.72",
         "Clear"
        ],
        [
         "1061",
         "2/14/2012 5:00",
         "-13.4",
         "-19.7",
         "59",
         "4",
         "25.0",
         "101.03",
         "Mostly Cloudy"
        ],
        [
         "1065",
         "2/14/2012 9:00",
         "-11.6",
         "-18.0",
         "59",
         "4",
         "24.1",
         "101.12",
         "Mainly Clear"
        ],
        [
         "1066",
         "2/14/2012 10:00",
         "-8.8",
         "-14.3",
         "64",
         "4",
         "24.1",
         "101.15",
         "Mainly Clear"
        ],
        [
         "1068",
         "2/14/2012 12:00",
         "-3.2",
         "-8.3",
         "68",
         "4",
         "24.1",
         "101.09",
         "Cloudy"
        ],
        [
         "1069",
         "2/14/2012 13:00",
         "-2.1",
         "-6.5",
         "72",
         "4",
         "24.1",
         "101.02",
         "Cloudy"
        ],
        [
         "1076",
         "2/14/2012 20:00",
         "-0.2",
         "-5.1",
         "69",
         "4",
         "25.0",
         "101.16",
         "Mostly Cloudy"
        ],
        [
         "1080",
         "2/15/2012 0:00",
         "-1.9",
         "-5.6",
         "76",
         "4",
         "25.0",
         "101.26",
         "Cloudy"
        ],
        [
         "1081",
         "2/15/2012 1:00",
         "-1.8",
         "-5.2",
         "78",
         "4",
         "25.0",
         "101.31",
         "Cloudy"
        ],
        [
         "1083",
         "2/15/2012 3:00",
         "-1.6",
         "-5.4",
         "75",
         "4",
         "25.0",
         "101.36",
         "Cloudy"
        ],
        [
         "1087",
         "2/15/2012 7:00",
         "-0.3",
         "-1.6",
         "91",
         "4",
         "6.4",
         "101.51",
         "Snow"
        ],
        [
         "1088",
         "2/15/2012 8:00",
         "0.1",
         "-1.5",
         "89",
         "4",
         "4.8",
         "101.57",
         "Snow"
        ],
        [
         "1089",
         "2/15/2012 9:00",
         "0.6",
         "-1.2",
         "88",
         "4",
         "3.2",
         "101.61",
         "Snow"
        ],
        [
         "1106",
         "2/16/2012 2:00",
         "0.7",
         "-0.8",
         "90",
         "4",
         "12.9",
         "101.97",
         "Cloudy"
        ]
       ],
       "shape": {
        "columns": 8,
        "rows": 474
       }
      },
      "text/html": [
       "<div>\n",
       "<style scoped>\n",
       "    .dataframe tbody tr th:only-of-type {\n",
       "        vertical-align: middle;\n",
       "    }\n",
       "\n",
       "    .dataframe tbody tr th {\n",
       "        vertical-align: top;\n",
       "    }\n",
       "\n",
       "    .dataframe thead th {\n",
       "        text-align: right;\n",
       "    }\n",
       "</style>\n",
       "<table border=\"1\" class=\"dataframe\">\n",
       "  <thead>\n",
       "    <tr style=\"text-align: right;\">\n",
       "      <th></th>\n",
       "      <th>Date/Time</th>\n",
       "      <th>Temp_C</th>\n",
       "      <th>Dew Point Temp_C</th>\n",
       "      <th>Rel Hum_%</th>\n",
       "      <th>Wind Speed_km/h</th>\n",
       "      <th>Visibility_km</th>\n",
       "      <th>Press_kPa</th>\n",
       "      <th>Weather</th>\n",
       "    </tr>\n",
       "  </thead>\n",
       "  <tbody>\n",
       "    <tr>\n",
       "      <th>0</th>\n",
       "      <td>1/1/2012 0:00</td>\n",
       "      <td>-1.8</td>\n",
       "      <td>-3.9</td>\n",
       "      <td>86</td>\n",
       "      <td>4</td>\n",
       "      <td>8.0</td>\n",
       "      <td>101.24</td>\n",
       "      <td>Fog</td>\n",
       "    </tr>\n",
       "    <tr>\n",
       "      <th>1</th>\n",
       "      <td>1/1/2012 1:00</td>\n",
       "      <td>-1.8</td>\n",
       "      <td>-3.7</td>\n",
       "      <td>87</td>\n",
       "      <td>4</td>\n",
       "      <td>8.0</td>\n",
       "      <td>101.24</td>\n",
       "      <td>Fog</td>\n",
       "    </tr>\n",
       "    <tr>\n",
       "      <th>96</th>\n",
       "      <td>1/5/2012 0:00</td>\n",
       "      <td>-8.8</td>\n",
       "      <td>-11.7</td>\n",
       "      <td>79</td>\n",
       "      <td>4</td>\n",
       "      <td>9.7</td>\n",
       "      <td>100.32</td>\n",
       "      <td>Snow</td>\n",
       "    </tr>\n",
       "    <tr>\n",
       "      <th>101</th>\n",
       "      <td>1/5/2012 5:00</td>\n",
       "      <td>-7.0</td>\n",
       "      <td>-9.5</td>\n",
       "      <td>82</td>\n",
       "      <td>4</td>\n",
       "      <td>4.0</td>\n",
       "      <td>100.19</td>\n",
       "      <td>Snow</td>\n",
       "    </tr>\n",
       "    <tr>\n",
       "      <th>146</th>\n",
       "      <td>1/7/2012 2:00</td>\n",
       "      <td>-8.1</td>\n",
       "      <td>-11.1</td>\n",
       "      <td>79</td>\n",
       "      <td>4</td>\n",
       "      <td>19.3</td>\n",
       "      <td>100.15</td>\n",
       "      <td>Cloudy</td>\n",
       "    </tr>\n",
       "    <tr>\n",
       "      <th>...</th>\n",
       "      <td>...</td>\n",
       "      <td>...</td>\n",
       "      <td>...</td>\n",
       "      <td>...</td>\n",
       "      <td>...</td>\n",
       "      <td>...</td>\n",
       "      <td>...</td>\n",
       "      <td>...</td>\n",
       "    </tr>\n",
       "    <tr>\n",
       "      <th>8768</th>\n",
       "      <td>12/31/2012 8:00</td>\n",
       "      <td>-8.6</td>\n",
       "      <td>-10.3</td>\n",
       "      <td>87</td>\n",
       "      <td>4</td>\n",
       "      <td>3.2</td>\n",
       "      <td>101.14</td>\n",
       "      <td>Snow Showers</td>\n",
       "    </tr>\n",
       "    <tr>\n",
       "      <th>8769</th>\n",
       "      <td>12/31/2012 9:00</td>\n",
       "      <td>-8.1</td>\n",
       "      <td>-9.6</td>\n",
       "      <td>89</td>\n",
       "      <td>4</td>\n",
       "      <td>2.4</td>\n",
       "      <td>101.09</td>\n",
       "      <td>Snow</td>\n",
       "    </tr>\n",
       "    <tr>\n",
       "      <th>8770</th>\n",
       "      <td>12/31/2012 10:00</td>\n",
       "      <td>-7.4</td>\n",
       "      <td>-8.9</td>\n",
       "      <td>89</td>\n",
       "      <td>4</td>\n",
       "      <td>6.4</td>\n",
       "      <td>101.05</td>\n",
       "      <td>Snow,Fog</td>\n",
       "    </tr>\n",
       "    <tr>\n",
       "      <th>8772</th>\n",
       "      <td>12/31/2012 12:00</td>\n",
       "      <td>-5.8</td>\n",
       "      <td>-7.5</td>\n",
       "      <td>88</td>\n",
       "      <td>4</td>\n",
       "      <td>12.9</td>\n",
       "      <td>100.78</td>\n",
       "      <td>Snow</td>\n",
       "    </tr>\n",
       "    <tr>\n",
       "      <th>8773</th>\n",
       "      <td>12/31/2012 13:00</td>\n",
       "      <td>-4.6</td>\n",
       "      <td>-6.6</td>\n",
       "      <td>86</td>\n",
       "      <td>4</td>\n",
       "      <td>12.9</td>\n",
       "      <td>100.63</td>\n",
       "      <td>Snow</td>\n",
       "    </tr>\n",
       "  </tbody>\n",
       "</table>\n",
       "<p>474 rows × 8 columns</p>\n",
       "</div>"
      ],
      "text/plain": [
       "             Date/Time  Temp_C  Dew Point Temp_C  Rel Hum_%  Wind Speed_km/h  \\\n",
       "0        1/1/2012 0:00    -1.8              -3.9         86                4   \n",
       "1        1/1/2012 1:00    -1.8              -3.7         87                4   \n",
       "96       1/5/2012 0:00    -8.8             -11.7         79                4   \n",
       "101      1/5/2012 5:00    -7.0              -9.5         82                4   \n",
       "146      1/7/2012 2:00    -8.1             -11.1         79                4   \n",
       "...                ...     ...               ...        ...              ...   \n",
       "8768   12/31/2012 8:00    -8.6             -10.3         87                4   \n",
       "8769   12/31/2012 9:00    -8.1              -9.6         89                4   \n",
       "8770  12/31/2012 10:00    -7.4              -8.9         89                4   \n",
       "8772  12/31/2012 12:00    -5.8              -7.5         88                4   \n",
       "8773  12/31/2012 13:00    -4.6              -6.6         86                4   \n",
       "\n",
       "      Visibility_km  Press_kPa       Weather  \n",
       "0               8.0     101.24           Fog  \n",
       "1               8.0     101.24           Fog  \n",
       "96              9.7     100.32          Snow  \n",
       "101             4.0     100.19          Snow  \n",
       "146            19.3     100.15        Cloudy  \n",
       "...             ...        ...           ...  \n",
       "8768            3.2     101.14  Snow Showers  \n",
       "8769            2.4     101.09          Snow  \n",
       "8770            6.4     101.05      Snow,Fog  \n",
       "8772           12.9     100.78          Snow  \n",
       "8773           12.9     100.63          Snow  \n",
       "\n",
       "[474 rows x 8 columns]"
      ]
     },
     "execution_count": 35,
     "metadata": {},
     "output_type": "execute_result"
    }
   ],
   "source": [
    "data[data['Wind Speed_km/h'] ==  4] # Answer"
   ]
  },
  {
   "cell_type": "markdown",
   "metadata": {},
   "source": [
    "### Q4. Find out all the NUll Values in the data."
   ]
  },
  {
   "cell_type": "code",
   "execution_count": null,
   "metadata": {},
   "outputs": [
    {
     "data": {
      "application/vnd.microsoft.datawrangler.viewer.v0+json": {
       "columns": [
        {
         "name": "index",
         "rawType": "object",
         "type": "string"
        },
        {
         "name": "0",
         "rawType": "int64",
         "type": "integer"
        }
       ],
       "ref": "4151e41f-1d23-4d7f-b4be-75c2d5fc2e4a",
       "rows": [
        [
         "Date/Time",
         "0"
        ],
        [
         "Temp_C",
         "0"
        ],
        [
         "Dew Point Temp_C",
         "0"
        ],
        [
         "Rel Hum_%",
         "0"
        ],
        [
         "Wind Speed_km/h",
         "0"
        ],
        [
         "Visibility_km",
         "0"
        ],
        [
         "Press_kPa",
         "0"
        ],
        [
         "Weather",
         "0"
        ]
       ],
       "shape": {
        "columns": 1,
        "rows": 8
       }
      },
      "text/plain": [
       "Date/Time           0\n",
       "Temp_C              0\n",
       "Dew Point Temp_C    0\n",
       "Rel Hum_%           0\n",
       "Wind Speed_km/h     0\n",
       "Visibility_km       0\n",
       "Press_kPa           0\n",
       "Weather             0\n",
       "dtype: int64"
      ]
     },
     "execution_count": 37,
     "metadata": {},
     "output_type": "execute_result"
    }
   ],
   "source": [
    "data.isnull().sum() # Answer   "
   ]
  },
  {
   "cell_type": "markdown",
   "metadata": {},
   "source": [
    "### Q5. Rename the column name 'Weather' of the dataframe to 'Weather Conditions'."
   ]
  },
  {
   "cell_type": "code",
   "execution_count": null,
   "metadata": {},
   "outputs": [
    {
     "data": {
      "application/vnd.microsoft.datawrangler.viewer.v0+json": {
       "columns": [
        {
         "name": "index",
         "rawType": "int64",
         "type": "integer"
        },
        {
         "name": "Date/Time",
         "rawType": "object",
         "type": "string"
        },
        {
         "name": "Temp_C",
         "rawType": "float64",
         "type": "float"
        },
        {
         "name": "Dew Point Temp_C",
         "rawType": "float64",
         "type": "float"
        },
        {
         "name": "Rel Hum_%",
         "rawType": "int64",
         "type": "integer"
        },
        {
         "name": "Wind Speed_km/h",
         "rawType": "int64",
         "type": "integer"
        },
        {
         "name": "Visibility_km",
         "rawType": "float64",
         "type": "float"
        },
        {
         "name": "Press_kPa",
         "rawType": "float64",
         "type": "float"
        },
        {
         "name": "Weather",
         "rawType": "object",
         "type": "string"
        }
       ],
       "ref": "9229a83a-a2bb-4d8a-8f9a-53992ec66f7e",
       "rows": [
        [
         "0",
         "1/1/2012 0:00",
         "-1.8",
         "-3.9",
         "86",
         "4",
         "8.0",
         "101.24",
         "Fog"
        ],
        [
         "1",
         "1/1/2012 1:00",
         "-1.8",
         "-3.7",
         "87",
         "4",
         "8.0",
         "101.24",
         "Fog"
        ],
        [
         "2",
         "1/1/2012 2:00",
         "-1.8",
         "-3.4",
         "89",
         "7",
         "4.0",
         "101.26",
         "Freezing Drizzle,Fog"
        ],
        [
         "3",
         "1/1/2012 3:00",
         "-1.5",
         "-3.2",
         "88",
         "6",
         "4.0",
         "101.27",
         "Freezing Drizzle,Fog"
        ],
        [
         "4",
         "1/1/2012 4:00",
         "-1.5",
         "-3.3",
         "88",
         "7",
         "4.8",
         "101.23",
         "Fog"
        ],
        [
         "5",
         "1/1/2012 5:00",
         "-1.4",
         "-3.3",
         "87",
         "9",
         "6.4",
         "101.27",
         "Fog"
        ],
        [
         "6",
         "1/1/2012 6:00",
         "-1.5",
         "-3.1",
         "89",
         "7",
         "6.4",
         "101.29",
         "Fog"
        ],
        [
         "7",
         "1/1/2012 7:00",
         "-1.4",
         "-3.6",
         "85",
         "7",
         "8.0",
         "101.26",
         "Fog"
        ],
        [
         "8",
         "1/1/2012 8:00",
         "-1.4",
         "-3.6",
         "85",
         "9",
         "8.0",
         "101.23",
         "Fog"
        ],
        [
         "9",
         "1/1/2012 9:00",
         "-1.3",
         "-3.1",
         "88",
         "15",
         "4.0",
         "101.2",
         "Fog"
        ],
        [
         "10",
         "1/1/2012 10:00",
         "-1.0",
         "-2.3",
         "91",
         "9",
         "1.2",
         "101.15",
         "Fog"
        ],
        [
         "11",
         "1/1/2012 11:00",
         "-0.5",
         "-2.1",
         "89",
         "7",
         "4.0",
         "100.98",
         "Fog"
        ],
        [
         "12",
         "1/1/2012 12:00",
         "-0.2",
         "-2.0",
         "88",
         "9",
         "4.8",
         "100.79",
         "Fog"
        ],
        [
         "13",
         "1/1/2012 13:00",
         "0.2",
         "-1.7",
         "87",
         "13",
         "4.8",
         "100.58",
         "Fog"
        ],
        [
         "14",
         "1/1/2012 14:00",
         "0.8",
         "-1.1",
         "87",
         "20",
         "4.8",
         "100.31",
         "Fog"
        ],
        [
         "15",
         "1/1/2012 15:00",
         "1.8",
         "-0.4",
         "85",
         "22",
         "6.4",
         "100.07",
         "Fog"
        ],
        [
         "16",
         "1/1/2012 16:00",
         "2.6",
         "-0.2",
         "82",
         "13",
         "12.9",
         "99.93",
         "Mostly Cloudy"
        ],
        [
         "17",
         "1/1/2012 17:00",
         "3.0",
         "0.0",
         "81",
         "13",
         "16.1",
         "99.81",
         "Cloudy"
        ],
        [
         "18",
         "1/1/2012 18:00",
         "3.8",
         "1.0",
         "82",
         "15",
         "12.9",
         "99.74",
         "Rain"
        ],
        [
         "19",
         "1/1/2012 19:00",
         "3.1",
         "1.3",
         "88",
         "15",
         "12.9",
         "99.68",
         "Rain"
        ],
        [
         "20",
         "1/1/2012 20:00",
         "3.2",
         "1.3",
         "87",
         "19",
         "25.0",
         "99.5",
         "Cloudy"
        ],
        [
         "21",
         "1/1/2012 21:00",
         "4.0",
         "1.7",
         "85",
         "20",
         "25.0",
         "99.39",
         "Cloudy"
        ],
        [
         "22",
         "1/1/2012 22:00",
         "4.4",
         "1.9",
         "84",
         "24",
         "19.3",
         "99.32",
         "Rain Showers"
        ],
        [
         "23",
         "1/1/2012 23:00",
         "5.3",
         "2.0",
         "79",
         "30",
         "25.0",
         "99.31",
         "Cloudy"
        ],
        [
         "24",
         "1/2/2012 0:00",
         "5.2",
         "1.5",
         "77",
         "35",
         "25.0",
         "99.26",
         "Rain Showers"
        ],
        [
         "25",
         "1/2/2012 1:00",
         "4.6",
         "0.0",
         "72",
         "39",
         "25.0",
         "99.26",
         "Cloudy"
        ],
        [
         "26",
         "1/2/2012 2:00",
         "3.9",
         "-0.9",
         "71",
         "32",
         "25.0",
         "99.26",
         "Mostly Cloudy"
        ],
        [
         "27",
         "1/2/2012 3:00",
         "3.7",
         "-1.5",
         "69",
         "33",
         "25.0",
         "99.3",
         "Mostly Cloudy"
        ],
        [
         "28",
         "1/2/2012 4:00",
         "2.9",
         "-2.3",
         "69",
         "32",
         "25.0",
         "99.26",
         "Mostly Cloudy"
        ],
        [
         "29",
         "1/2/2012 5:00",
         "2.6",
         "-2.3",
         "70",
         "32",
         "25.0",
         "99.21",
         "Mostly Cloudy"
        ],
        [
         "30",
         "1/2/2012 6:00",
         "2.3",
         "-2.6",
         "70",
         "26",
         "25.0",
         "99.18",
         "Mostly Cloudy"
        ],
        [
         "31",
         "1/2/2012 7:00",
         "2.0",
         "-2.9",
         "70",
         "33",
         "25.0",
         "99.14",
         "Mostly Cloudy"
        ],
        [
         "32",
         "1/2/2012 8:00",
         "1.9",
         "-3.3",
         "68",
         "39",
         "24.1",
         "99.14",
         "Mostly Cloudy"
        ],
        [
         "33",
         "1/2/2012 9:00",
         "1.8",
         "-3.7",
         "67",
         "44",
         "24.1",
         "99.14",
         "Mostly Cloudy"
        ],
        [
         "34",
         "1/2/2012 10:00",
         "1.5",
         "-4.1",
         "66",
         "43",
         "24.1",
         "99.18",
         "Mostly Cloudy"
        ],
        [
         "35",
         "1/2/2012 11:00",
         "2.2",
         "-3.5",
         "66",
         "30",
         "24.1",
         "99.19",
         "Mostly Cloudy"
        ],
        [
         "36",
         "1/2/2012 12:00",
         "1.7",
         "-6.2",
         "56",
         "48",
         "24.1",
         "99.21",
         "Mainly Clear"
        ],
        [
         "37",
         "1/2/2012 13:00",
         "1.1",
         "-6.5",
         "57",
         "37",
         "24.1",
         "99.27",
         "Mostly Cloudy"
        ],
        [
         "38",
         "1/2/2012 14:00",
         "1.1",
         "-6.8",
         "56",
         "33",
         "24.1",
         "99.33",
         "Mostly Cloudy"
        ],
        [
         "39",
         "1/2/2012 15:00",
         "0.0",
         "-7.0",
         "59",
         "33",
         "24.1",
         "99.41",
         "Mostly Cloudy"
        ],
        [
         "40",
         "1/2/2012 16:00",
         "-0.7",
         "-8.7",
         "55",
         "24",
         "24.1",
         "99.5",
         "Mostly Cloudy"
        ],
        [
         "41",
         "1/2/2012 17:00",
         "-2.1",
         "-9.5",
         "57",
         "22",
         "25.0",
         "99.66",
         "Snow Showers"
        ],
        [
         "42",
         "1/2/2012 18:00",
         "-4.1",
         "-11.4",
         "57",
         "28",
         "25.0",
         "99.86",
         "Mostly Cloudy"
        ],
        [
         "43",
         "1/2/2012 19:00",
         "-4.8",
         "-12.1",
         "57",
         "24",
         "25.0",
         "100.0",
         "Mostly Cloudy"
        ],
        [
         "44",
         "1/2/2012 20:00",
         "-5.6",
         "-13.4",
         "54",
         "24",
         "25.0",
         "100.07",
         "Snow Showers"
        ],
        [
         "45",
         "1/2/2012 21:00",
         "-5.8",
         "-12.8",
         "58",
         "26",
         "25.0",
         "100.15",
         "Snow Showers"
        ],
        [
         "46",
         "1/2/2012 22:00",
         "-7.0",
         "-14.7",
         "54",
         "20",
         "25.0",
         "100.26",
         "Cloudy"
        ],
        [
         "47",
         "1/2/2012 23:00",
         "-7.4",
         "-14.1",
         "59",
         "17",
         "19.3",
         "100.27",
         "Snow Showers"
        ],
        [
         "48",
         "1/3/2012 0:00",
         "-9.0",
         "-16.0",
         "57",
         "28",
         "25.0",
         "100.35",
         "Snow Showers"
        ],
        [
         "49",
         "1/3/2012 1:00",
         "-9.7",
         "-17.2",
         "54",
         "20",
         "25.0",
         "100.43",
         "Cloudy"
        ]
       ],
       "shape": {
        "columns": 8,
        "rows": 8784
       }
      },
      "text/html": [
       "<div>\n",
       "<style scoped>\n",
       "    .dataframe tbody tr th:only-of-type {\n",
       "        vertical-align: middle;\n",
       "    }\n",
       "\n",
       "    .dataframe tbody tr th {\n",
       "        vertical-align: top;\n",
       "    }\n",
       "\n",
       "    .dataframe thead th {\n",
       "        text-align: right;\n",
       "    }\n",
       "</style>\n",
       "<table border=\"1\" class=\"dataframe\">\n",
       "  <thead>\n",
       "    <tr style=\"text-align: right;\">\n",
       "      <th></th>\n",
       "      <th>Date/Time</th>\n",
       "      <th>Temp_C</th>\n",
       "      <th>Dew Point Temp_C</th>\n",
       "      <th>Rel Hum_%</th>\n",
       "      <th>Wind Speed_km/h</th>\n",
       "      <th>Visibility_km</th>\n",
       "      <th>Press_kPa</th>\n",
       "      <th>Weather</th>\n",
       "    </tr>\n",
       "  </thead>\n",
       "  <tbody>\n",
       "    <tr>\n",
       "      <th>0</th>\n",
       "      <td>1/1/2012 0:00</td>\n",
       "      <td>-1.8</td>\n",
       "      <td>-3.9</td>\n",
       "      <td>86</td>\n",
       "      <td>4</td>\n",
       "      <td>8.0</td>\n",
       "      <td>101.24</td>\n",
       "      <td>Fog</td>\n",
       "    </tr>\n",
       "    <tr>\n",
       "      <th>1</th>\n",
       "      <td>1/1/2012 1:00</td>\n",
       "      <td>-1.8</td>\n",
       "      <td>-3.7</td>\n",
       "      <td>87</td>\n",
       "      <td>4</td>\n",
       "      <td>8.0</td>\n",
       "      <td>101.24</td>\n",
       "      <td>Fog</td>\n",
       "    </tr>\n",
       "    <tr>\n",
       "      <th>2</th>\n",
       "      <td>1/1/2012 2:00</td>\n",
       "      <td>-1.8</td>\n",
       "      <td>-3.4</td>\n",
       "      <td>89</td>\n",
       "      <td>7</td>\n",
       "      <td>4.0</td>\n",
       "      <td>101.26</td>\n",
       "      <td>Freezing Drizzle,Fog</td>\n",
       "    </tr>\n",
       "    <tr>\n",
       "      <th>3</th>\n",
       "      <td>1/1/2012 3:00</td>\n",
       "      <td>-1.5</td>\n",
       "      <td>-3.2</td>\n",
       "      <td>88</td>\n",
       "      <td>6</td>\n",
       "      <td>4.0</td>\n",
       "      <td>101.27</td>\n",
       "      <td>Freezing Drizzle,Fog</td>\n",
       "    </tr>\n",
       "    <tr>\n",
       "      <th>4</th>\n",
       "      <td>1/1/2012 4:00</td>\n",
       "      <td>-1.5</td>\n",
       "      <td>-3.3</td>\n",
       "      <td>88</td>\n",
       "      <td>7</td>\n",
       "      <td>4.8</td>\n",
       "      <td>101.23</td>\n",
       "      <td>Fog</td>\n",
       "    </tr>\n",
       "    <tr>\n",
       "      <th>...</th>\n",
       "      <td>...</td>\n",
       "      <td>...</td>\n",
       "      <td>...</td>\n",
       "      <td>...</td>\n",
       "      <td>...</td>\n",
       "      <td>...</td>\n",
       "      <td>...</td>\n",
       "      <td>...</td>\n",
       "    </tr>\n",
       "    <tr>\n",
       "      <th>8779</th>\n",
       "      <td>12/31/2012 19:00</td>\n",
       "      <td>0.1</td>\n",
       "      <td>-2.7</td>\n",
       "      <td>81</td>\n",
       "      <td>30</td>\n",
       "      <td>9.7</td>\n",
       "      <td>100.13</td>\n",
       "      <td>Snow</td>\n",
       "    </tr>\n",
       "    <tr>\n",
       "      <th>8780</th>\n",
       "      <td>12/31/2012 20:00</td>\n",
       "      <td>0.2</td>\n",
       "      <td>-2.4</td>\n",
       "      <td>83</td>\n",
       "      <td>24</td>\n",
       "      <td>9.7</td>\n",
       "      <td>100.03</td>\n",
       "      <td>Snow</td>\n",
       "    </tr>\n",
       "    <tr>\n",
       "      <th>8781</th>\n",
       "      <td>12/31/2012 21:00</td>\n",
       "      <td>-0.5</td>\n",
       "      <td>-1.5</td>\n",
       "      <td>93</td>\n",
       "      <td>28</td>\n",
       "      <td>4.8</td>\n",
       "      <td>99.95</td>\n",
       "      <td>Snow</td>\n",
       "    </tr>\n",
       "    <tr>\n",
       "      <th>8782</th>\n",
       "      <td>12/31/2012 22:00</td>\n",
       "      <td>-0.2</td>\n",
       "      <td>-1.8</td>\n",
       "      <td>89</td>\n",
       "      <td>28</td>\n",
       "      <td>9.7</td>\n",
       "      <td>99.91</td>\n",
       "      <td>Snow</td>\n",
       "    </tr>\n",
       "    <tr>\n",
       "      <th>8783</th>\n",
       "      <td>12/31/2012 23:00</td>\n",
       "      <td>0.0</td>\n",
       "      <td>-2.1</td>\n",
       "      <td>86</td>\n",
       "      <td>30</td>\n",
       "      <td>11.3</td>\n",
       "      <td>99.89</td>\n",
       "      <td>Snow</td>\n",
       "    </tr>\n",
       "  </tbody>\n",
       "</table>\n",
       "<p>8784 rows × 8 columns</p>\n",
       "</div>"
      ],
      "text/plain": [
       "             Date/Time  Temp_C  Dew Point Temp_C  Rel Hum_%  Wind Speed_km/h  \\\n",
       "0        1/1/2012 0:00    -1.8              -3.9         86                4   \n",
       "1        1/1/2012 1:00    -1.8              -3.7         87                4   \n",
       "2        1/1/2012 2:00    -1.8              -3.4         89                7   \n",
       "3        1/1/2012 3:00    -1.5              -3.2         88                6   \n",
       "4        1/1/2012 4:00    -1.5              -3.3         88                7   \n",
       "...                ...     ...               ...        ...              ...   \n",
       "8779  12/31/2012 19:00     0.1              -2.7         81               30   \n",
       "8780  12/31/2012 20:00     0.2              -2.4         83               24   \n",
       "8781  12/31/2012 21:00    -0.5              -1.5         93               28   \n",
       "8782  12/31/2012 22:00    -0.2              -1.8         89               28   \n",
       "8783  12/31/2012 23:00     0.0              -2.1         86               30   \n",
       "\n",
       "      Visibility_km  Press_kPa               Weather  \n",
       "0               8.0     101.24                   Fog  \n",
       "1               8.0     101.24                   Fog  \n",
       "2               4.0     101.26  Freezing Drizzle,Fog  \n",
       "3               4.0     101.27  Freezing Drizzle,Fog  \n",
       "4               4.8     101.23                   Fog  \n",
       "...             ...        ...                   ...  \n",
       "8779            9.7     100.13                  Snow  \n",
       "8780            9.7     100.03                  Snow  \n",
       "8781            4.8      99.95                  Snow  \n",
       "8782            9.7      99.91                  Snow  \n",
       "8783           11.3      99.89                  Snow  \n",
       "\n",
       "[8784 rows x 8 columns]"
      ]
     },
     "execution_count": 41,
     "metadata": {},
     "output_type": "execute_result"
    }
   ],
   "source": [
    "data.rename(columns ={'Wheather' : 'Wheather Condition'}) #inplace = True  # I didn't use -inplace- because I used the old name for the analysis I  "
   ]
  },
  {
   "cell_type": "markdown",
   "metadata": {},
   "source": [
    "### Q6. What is the mean 'Visibility'"
   ]
  },
  {
   "cell_type": "code",
   "execution_count": 42,
   "metadata": {},
   "outputs": [
    {
     "data": {
      "text/plain": [
       "np.float64(27.664446721311474)"
      ]
     },
     "execution_count": 42,
     "metadata": {},
     "output_type": "execute_result"
    }
   ],
   "source": [
    "data.Visibility_km.mean()"
   ]
  },
  {
   "cell_type": "markdown",
   "metadata": {},
   "source": [
    "### Q7. What is the Standard Deviation of 'Pressure' in this data"
   ]
  },
  {
   "cell_type": "code",
   "execution_count": 43,
   "metadata": {},
   "outputs": [
    {
     "data": {
      "text/plain": [
       "np.float64(0.8440047459486483)"
      ]
     },
     "execution_count": 43,
     "metadata": {},
     "output_type": "execute_result"
    }
   ],
   "source": [
    "data.Press_kPa.std()"
   ]
  },
  {
   "cell_type": "markdown",
   "metadata": {},
   "source": [
    "### Q8. What is the Variance of 'Relative Humidity' in this data"
   ]
  },
  {
   "cell_type": "code",
   "execution_count": 44,
   "metadata": {},
   "outputs": [
    {
     "data": {
      "text/plain": [
       "np.float64(286.24855019850196)"
      ]
     },
     "execution_count": 44,
     "metadata": {},
     "output_type": "execute_result"
    }
   ],
   "source": [
    "data['Rel Hum_%'].var()"
   ]
  },
  {
   "cell_type": "markdown",
   "metadata": {},
   "source": [
    "### Q9. Find all instances when 'Snow' was recorded"
   ]
  },
  {
   "cell_type": "code",
   "execution_count": null,
   "metadata": {},
   "outputs": [
    {
     "data": {
      "application/vnd.microsoft.datawrangler.viewer.v0+json": {
       "columns": [
        {
         "name": "Weather",
         "rawType": "object",
         "type": "string"
        },
        {
         "name": "count",
         "rawType": "int64",
         "type": "integer"
        }
       ],
       "ref": "b59014dc-4742-479f-899d-803b4f3a9b35",
       "rows": [
        [
         "Mainly Clear",
         "2106"
        ],
        [
         "Mostly Cloudy",
         "2069"
        ],
        [
         "Cloudy",
         "1728"
        ],
        [
         "Clear",
         "1326"
        ],
        [
         "Snow",
         "390"
        ],
        [
         "Rain",
         "306"
        ],
        [
         "Rain Showers",
         "188"
        ],
        [
         "Fog",
         "150"
        ],
        [
         "Rain,Fog",
         "116"
        ],
        [
         "Drizzle,Fog",
         "80"
        ],
        [
         "Snow Showers",
         "60"
        ],
        [
         "Drizzle",
         "41"
        ],
        [
         "Snow,Fog",
         "37"
        ],
        [
         "Snow,Blowing Snow",
         "19"
        ],
        [
         "Rain,Snow",
         "18"
        ],
        [
         "Thunderstorms,Rain Showers",
         "16"
        ],
        [
         "Haze",
         "16"
        ],
        [
         "Drizzle,Snow,Fog",
         "15"
        ],
        [
         "Freezing Rain",
         "14"
        ],
        [
         "Freezing Drizzle,Snow",
         "11"
        ],
        [
         "Freezing Drizzle",
         "7"
        ],
        [
         "Snow,Ice Pellets",
         "6"
        ],
        [
         "Freezing Drizzle,Fog",
         "6"
        ],
        [
         "Snow,Haze",
         "5"
        ],
        [
         "Freezing Fog",
         "4"
        ],
        [
         "Snow Showers,Fog",
         "4"
        ],
        [
         "Moderate Snow",
         "4"
        ],
        [
         "Rain,Snow,Ice Pellets",
         "4"
        ],
        [
         "Freezing Rain,Fog",
         "4"
        ],
        [
         "Freezing Drizzle,Haze",
         "3"
        ],
        [
         "Rain,Haze",
         "3"
        ],
        [
         "Thunderstorms,Rain",
         "3"
        ],
        [
         "Thunderstorms,Rain Showers,Fog",
         "3"
        ],
        [
         "Freezing Rain,Haze",
         "2"
        ],
        [
         "Drizzle,Snow",
         "2"
        ],
        [
         "Rain Showers,Snow Showers",
         "2"
        ],
        [
         "Thunderstorms",
         "2"
        ],
        [
         "Moderate Snow,Blowing Snow",
         "2"
        ],
        [
         "Rain Showers,Fog",
         "1"
        ],
        [
         "Thunderstorms,Moderate Rain Showers,Fog",
         "1"
        ],
        [
         "Snow Pellets",
         "1"
        ],
        [
         "Rain,Snow,Fog",
         "1"
        ],
        [
         "Moderate Rain,Fog",
         "1"
        ],
        [
         "Freezing Rain,Ice Pellets,Fog",
         "1"
        ],
        [
         "Drizzle,Ice Pellets,Fog",
         "1"
        ],
        [
         "Thunderstorms,Rain,Fog",
         "1"
        ],
        [
         "Rain,Ice Pellets",
         "1"
        ],
        [
         "Rain,Snow Grains",
         "1"
        ],
        [
         "Thunderstorms,Heavy Rain Showers",
         "1"
        ],
        [
         "Freezing Rain,Snow Grains",
         "1"
        ]
       ],
       "shape": {
        "columns": 1,
        "rows": 50
       }
      },
      "text/plain": [
       "Weather\n",
       "Mainly Clear                               2106\n",
       "Mostly Cloudy                              2069\n",
       "Cloudy                                     1728\n",
       "Clear                                      1326\n",
       "Snow                                        390\n",
       "Rain                                        306\n",
       "Rain Showers                                188\n",
       "Fog                                         150\n",
       "Rain,Fog                                    116\n",
       "Drizzle,Fog                                  80\n",
       "Snow Showers                                 60\n",
       "Drizzle                                      41\n",
       "Snow,Fog                                     37\n",
       "Snow,Blowing Snow                            19\n",
       "Rain,Snow                                    18\n",
       "Thunderstorms,Rain Showers                   16\n",
       "Haze                                         16\n",
       "Drizzle,Snow,Fog                             15\n",
       "Freezing Rain                                14\n",
       "Freezing Drizzle,Snow                        11\n",
       "Freezing Drizzle                              7\n",
       "Snow,Ice Pellets                              6\n",
       "Freezing Drizzle,Fog                          6\n",
       "Snow,Haze                                     5\n",
       "Freezing Fog                                  4\n",
       "Snow Showers,Fog                              4\n",
       "Moderate Snow                                 4\n",
       "Rain,Snow,Ice Pellets                         4\n",
       "Freezing Rain,Fog                             4\n",
       "Freezing Drizzle,Haze                         3\n",
       "Rain,Haze                                     3\n",
       "Thunderstorms,Rain                            3\n",
       "Thunderstorms,Rain Showers,Fog                3\n",
       "Freezing Rain,Haze                            2\n",
       "Drizzle,Snow                                  2\n",
       "Rain Showers,Snow Showers                     2\n",
       "Thunderstorms                                 2\n",
       "Moderate Snow,Blowing Snow                    2\n",
       "Rain Showers,Fog                              1\n",
       "Thunderstorms,Moderate Rain Showers,Fog       1\n",
       "Snow Pellets                                  1\n",
       "Rain,Snow,Fog                                 1\n",
       "Moderate Rain,Fog                             1\n",
       "Freezing Rain,Ice Pellets,Fog                 1\n",
       "Drizzle,Ice Pellets,Fog                       1\n",
       "Thunderstorms,Rain,Fog                        1\n",
       "Rain,Ice Pellets                              1\n",
       "Rain,Snow Grains                              1\n",
       "Thunderstorms,Heavy Rain Showers              1\n",
       "Freezing Rain,Snow Grains                     1\n",
       "Name: count, dtype: int64"
      ]
     },
     "execution_count": 46,
     "metadata": {},
     "output_type": "execute_result"
    }
   ],
   "source": [
    "data['Weather'].value_counts() # Answer 1"
   ]
  },
  {
   "cell_type": "code",
   "execution_count": null,
   "metadata": {},
   "outputs": [
    {
     "data": {
      "application/vnd.microsoft.datawrangler.viewer.v0+json": {
       "columns": [
        {
         "name": "index",
         "rawType": "int64",
         "type": "integer"
        },
        {
         "name": "Date/Time",
         "rawType": "object",
         "type": "string"
        },
        {
         "name": "Temp_C",
         "rawType": "float64",
         "type": "float"
        },
        {
         "name": "Dew Point Temp_C",
         "rawType": "float64",
         "type": "float"
        },
        {
         "name": "Rel Hum_%",
         "rawType": "int64",
         "type": "integer"
        },
        {
         "name": "Wind Speed_km/h",
         "rawType": "int64",
         "type": "integer"
        },
        {
         "name": "Visibility_km",
         "rawType": "float64",
         "type": "float"
        },
        {
         "name": "Press_kPa",
         "rawType": "float64",
         "type": "float"
        },
        {
         "name": "Weather",
         "rawType": "object",
         "type": "string"
        }
       ],
       "ref": "0b89f908-0094-4c28-80d8-d6708a52ddd0",
       "rows": [
        [
         "55",
         "1/3/2012 7:00",
         "-14.0",
         "-19.5",
         "63",
         "19",
         "25.0",
         "100.95",
         "Snow"
        ],
        [
         "84",
         "1/4/2012 12:00",
         "-13.7",
         "-21.7",
         "51",
         "11",
         "24.1",
         "101.25",
         "Snow"
        ],
        [
         "86",
         "1/4/2012 14:00",
         "-11.3",
         "-19.0",
         "53",
         "7",
         "19.3",
         "100.97",
         "Snow"
        ],
        [
         "87",
         "1/4/2012 15:00",
         "-10.2",
         "-16.3",
         "61",
         "11",
         "9.7",
         "100.89",
         "Snow"
        ],
        [
         "88",
         "1/4/2012 16:00",
         "-9.4",
         "-15.5",
         "61",
         "13",
         "19.3",
         "100.79",
         "Snow"
        ],
        [
         "89",
         "1/4/2012 17:00",
         "-8.9",
         "-13.2",
         "71",
         "9",
         "4.8",
         "100.76",
         "Snow"
        ],
        [
         "90",
         "1/4/2012 18:00",
         "-8.9",
         "-12.6",
         "75",
         "11",
         "9.7",
         "100.69",
         "Snow"
        ],
        [
         "91",
         "1/4/2012 19:00",
         "-8.4",
         "-12.7",
         "71",
         "9",
         "16.1",
         "100.65",
         "Snow"
        ],
        [
         "92",
         "1/4/2012 20:00",
         "-7.8",
         "-12.1",
         "71",
         "9",
         "16.1",
         "100.61",
         "Snow"
        ],
        [
         "93",
         "1/4/2012 21:00",
         "-7.6",
         "-11.6",
         "73",
         "7",
         "11.3",
         "100.54",
         "Snow"
        ],
        [
         "94",
         "1/4/2012 22:00",
         "-9.5",
         "-12.7",
         "77",
         "6",
         "9.7",
         "100.5",
         "Snow"
        ],
        [
         "95",
         "1/4/2012 23:00",
         "-9.6",
         "-12.6",
         "79",
         "6",
         "9.7",
         "100.42",
         "Snow"
        ],
        [
         "96",
         "1/5/2012 0:00",
         "-8.8",
         "-11.7",
         "79",
         "4",
         "9.7",
         "100.32",
         "Snow"
        ],
        [
         "97",
         "1/5/2012 1:00",
         "-7.5",
         "-10.2",
         "81",
         "0",
         "9.7",
         "100.29",
         "Snow"
        ],
        [
         "98",
         "1/5/2012 2:00",
         "-5.4",
         "-8.3",
         "80",
         "9",
         "8.0",
         "100.28",
         "Snow"
        ],
        [
         "99",
         "1/5/2012 3:00",
         "-5.0",
         "-7.7",
         "81",
         "11",
         "9.7",
         "100.24",
         "Snow"
        ],
        [
         "100",
         "1/5/2012 4:00",
         "-4.1",
         "-6.5",
         "83",
         "9",
         "4.8",
         "100.21",
         "Snow"
        ],
        [
         "101",
         "1/5/2012 5:00",
         "-7.0",
         "-9.5",
         "82",
         "4",
         "4.0",
         "100.19",
         "Snow"
        ],
        [
         "102",
         "1/5/2012 6:00",
         "-8.2",
         "-10.7",
         "82",
         "6",
         "6.4",
         "100.26",
         "Snow"
        ],
        [
         "103",
         "1/5/2012 7:00",
         "-7.1",
         "-9.7",
         "82",
         "9",
         "9.7",
         "100.31",
         "Snow"
        ],
        [
         "104",
         "1/5/2012 8:00",
         "-6.1",
         "-9.1",
         "79",
         "11",
         "9.7",
         "100.39",
         "Snow"
        ],
        [
         "123",
         "1/6/2012 3:00",
         "-10.6",
         "-16.0",
         "64",
         "0",
         "9.7",
         "100.76",
         "Snow"
        ],
        [
         "124",
         "1/6/2012 4:00",
         "-11.3",
         "-16.1",
         "68",
         "15",
         "3.2",
         "100.7",
         "Snow"
        ],
        [
         "125",
         "1/6/2012 5:00",
         "-11.8",
         "-16.0",
         "71",
         "19",
         "2.8",
         "100.61",
         "Snow"
        ],
        [
         "126",
         "1/6/2012 6:00",
         "-12.0",
         "-16.2",
         "71",
         "22",
         "4.8",
         "100.58",
         "Snow"
        ],
        [
         "127",
         "1/6/2012 7:00",
         "-14.4",
         "-16.3",
         "85",
         "22",
         "2.4",
         "100.52",
         "Snow"
        ],
        [
         "128",
         "1/6/2012 8:00",
         "-12.3",
         "-16.2",
         "73",
         "24",
         "11.3",
         "100.51",
         "Snow"
        ],
        [
         "129",
         "1/6/2012 9:00",
         "-12.5",
         "-16.7",
         "71",
         "26",
         "19.3",
         "100.53",
         "Snow"
        ],
        [
         "130",
         "1/6/2012 10:00",
         "-12.3",
         "-16.3",
         "72",
         "28",
         "16.1",
         "100.47",
         "Snow"
        ],
        [
         "131",
         "1/6/2012 11:00",
         "-12.0",
         "-16.0",
         "72",
         "17",
         "24.1",
         "100.36",
         "Snow"
        ],
        [
         "132",
         "1/6/2012 12:00",
         "-11.7",
         "-15.4",
         "74",
         "28",
         "19.3",
         "100.23",
         "Snow"
        ],
        [
         "133",
         "1/6/2012 13:00",
         "-11.9",
         "-15.6",
         "74",
         "20",
         "24.1",
         "100.13",
         "Snow"
        ],
        [
         "134",
         "1/6/2012 14:00",
         "-11.2",
         "-14.8",
         "75",
         "19",
         "19.3",
         "100.07",
         "Snow"
        ],
        [
         "135",
         "1/6/2012 15:00",
         "-11.5",
         "-14.4",
         "79",
         "19",
         "12.9",
         "100.06",
         "Snow"
        ],
        [
         "136",
         "1/6/2012 16:00",
         "-11.6",
         "-14.7",
         "78",
         "19",
         "19.3",
         "100.1",
         "Snow"
        ],
        [
         "137",
         "1/6/2012 17:00",
         "-11.2",
         "-14.3",
         "78",
         "17",
         "25.0",
         "100.15",
         "Snow"
        ],
        [
         "158",
         "1/7/2012 14:00",
         "-4.4",
         "-6.9",
         "83",
         "6",
         "8.0",
         "100.09",
         "Snow"
        ],
        [
         "159",
         "1/7/2012 15:00",
         "-3.7",
         "-6.1",
         "83",
         "11",
         "8.0",
         "100.09",
         "Snow"
        ],
        [
         "160",
         "1/7/2012 16:00",
         "-3.6",
         "-5.9",
         "84",
         "0",
         "8.0",
         "100.15",
         "Snow"
        ],
        [
         "161",
         "1/7/2012 17:00",
         "-3.1",
         "-5.4",
         "84",
         "13",
         "8.0",
         "100.27",
         "Snow"
        ],
        [
         "162",
         "1/7/2012 18:00",
         "-3.2",
         "-5.3",
         "85",
         "6",
         "9.7",
         "100.33",
         "Snow"
        ],
        [
         "163",
         "1/7/2012 19:00",
         "-3.0",
         "-5.0",
         "86",
         "6",
         "8.0",
         "100.41",
         "Snow"
        ],
        [
         "164",
         "1/7/2012 20:00",
         "-1.8",
         "-3.7",
         "87",
         "4",
         "9.7",
         "100.48",
         "Snow"
        ],
        [
         "165",
         "1/7/2012 21:00",
         "-1.3",
         "-3.1",
         "88",
         "0",
         "6.4",
         "100.5",
         "Snow"
        ],
        [
         "167",
         "1/7/2012 23:00",
         "0.4",
         "-1.5",
         "87",
         "22",
         "9.7",
         "100.62",
         "Snow"
        ],
        [
         "176",
         "1/8/2012 8:00",
         "-5.9",
         "-10.7",
         "69",
         "11",
         "24.1",
         "101.7",
         "Snow"
        ],
        [
         "177",
         "1/8/2012 9:00",
         "-6.4",
         "-11.9",
         "65",
         "17",
         "24.1",
         "101.81",
         "Snow"
        ],
        [
         "178",
         "1/8/2012 10:00",
         "-6.5",
         "-11.6",
         "67",
         "17",
         "9.7",
         "101.89",
         "Snow"
        ],
        [
         "179",
         "1/8/2012 11:00",
         "-7.1",
         "-12.6",
         "65",
         "22",
         "24.1",
         "101.92",
         "Snow"
        ],
        [
         "180",
         "1/8/2012 12:00",
         "-6.7",
         "-11.9",
         "66",
         "15",
         "24.1",
         "101.9",
         "Snow"
        ]
       ],
       "shape": {
        "columns": 8,
        "rows": 390
       }
      },
      "text/html": [
       "<div>\n",
       "<style scoped>\n",
       "    .dataframe tbody tr th:only-of-type {\n",
       "        vertical-align: middle;\n",
       "    }\n",
       "\n",
       "    .dataframe tbody tr th {\n",
       "        vertical-align: top;\n",
       "    }\n",
       "\n",
       "    .dataframe thead th {\n",
       "        text-align: right;\n",
       "    }\n",
       "</style>\n",
       "<table border=\"1\" class=\"dataframe\">\n",
       "  <thead>\n",
       "    <tr style=\"text-align: right;\">\n",
       "      <th></th>\n",
       "      <th>Date/Time</th>\n",
       "      <th>Temp_C</th>\n",
       "      <th>Dew Point Temp_C</th>\n",
       "      <th>Rel Hum_%</th>\n",
       "      <th>Wind Speed_km/h</th>\n",
       "      <th>Visibility_km</th>\n",
       "      <th>Press_kPa</th>\n",
       "      <th>Weather</th>\n",
       "    </tr>\n",
       "  </thead>\n",
       "  <tbody>\n",
       "    <tr>\n",
       "      <th>55</th>\n",
       "      <td>1/3/2012 7:00</td>\n",
       "      <td>-14.0</td>\n",
       "      <td>-19.5</td>\n",
       "      <td>63</td>\n",
       "      <td>19</td>\n",
       "      <td>25.0</td>\n",
       "      <td>100.95</td>\n",
       "      <td>Snow</td>\n",
       "    </tr>\n",
       "    <tr>\n",
       "      <th>84</th>\n",
       "      <td>1/4/2012 12:00</td>\n",
       "      <td>-13.7</td>\n",
       "      <td>-21.7</td>\n",
       "      <td>51</td>\n",
       "      <td>11</td>\n",
       "      <td>24.1</td>\n",
       "      <td>101.25</td>\n",
       "      <td>Snow</td>\n",
       "    </tr>\n",
       "    <tr>\n",
       "      <th>86</th>\n",
       "      <td>1/4/2012 14:00</td>\n",
       "      <td>-11.3</td>\n",
       "      <td>-19.0</td>\n",
       "      <td>53</td>\n",
       "      <td>7</td>\n",
       "      <td>19.3</td>\n",
       "      <td>100.97</td>\n",
       "      <td>Snow</td>\n",
       "    </tr>\n",
       "    <tr>\n",
       "      <th>87</th>\n",
       "      <td>1/4/2012 15:00</td>\n",
       "      <td>-10.2</td>\n",
       "      <td>-16.3</td>\n",
       "      <td>61</td>\n",
       "      <td>11</td>\n",
       "      <td>9.7</td>\n",
       "      <td>100.89</td>\n",
       "      <td>Snow</td>\n",
       "    </tr>\n",
       "    <tr>\n",
       "      <th>88</th>\n",
       "      <td>1/4/2012 16:00</td>\n",
       "      <td>-9.4</td>\n",
       "      <td>-15.5</td>\n",
       "      <td>61</td>\n",
       "      <td>13</td>\n",
       "      <td>19.3</td>\n",
       "      <td>100.79</td>\n",
       "      <td>Snow</td>\n",
       "    </tr>\n",
       "    <tr>\n",
       "      <th>...</th>\n",
       "      <td>...</td>\n",
       "      <td>...</td>\n",
       "      <td>...</td>\n",
       "      <td>...</td>\n",
       "      <td>...</td>\n",
       "      <td>...</td>\n",
       "      <td>...</td>\n",
       "      <td>...</td>\n",
       "    </tr>\n",
       "    <tr>\n",
       "      <th>8779</th>\n",
       "      <td>12/31/2012 19:00</td>\n",
       "      <td>0.1</td>\n",
       "      <td>-2.7</td>\n",
       "      <td>81</td>\n",
       "      <td>30</td>\n",
       "      <td>9.7</td>\n",
       "      <td>100.13</td>\n",
       "      <td>Snow</td>\n",
       "    </tr>\n",
       "    <tr>\n",
       "      <th>8780</th>\n",
       "      <td>12/31/2012 20:00</td>\n",
       "      <td>0.2</td>\n",
       "      <td>-2.4</td>\n",
       "      <td>83</td>\n",
       "      <td>24</td>\n",
       "      <td>9.7</td>\n",
       "      <td>100.03</td>\n",
       "      <td>Snow</td>\n",
       "    </tr>\n",
       "    <tr>\n",
       "      <th>8781</th>\n",
       "      <td>12/31/2012 21:00</td>\n",
       "      <td>-0.5</td>\n",
       "      <td>-1.5</td>\n",
       "      <td>93</td>\n",
       "      <td>28</td>\n",
       "      <td>4.8</td>\n",
       "      <td>99.95</td>\n",
       "      <td>Snow</td>\n",
       "    </tr>\n",
       "    <tr>\n",
       "      <th>8782</th>\n",
       "      <td>12/31/2012 22:00</td>\n",
       "      <td>-0.2</td>\n",
       "      <td>-1.8</td>\n",
       "      <td>89</td>\n",
       "      <td>28</td>\n",
       "      <td>9.7</td>\n",
       "      <td>99.91</td>\n",
       "      <td>Snow</td>\n",
       "    </tr>\n",
       "    <tr>\n",
       "      <th>8783</th>\n",
       "      <td>12/31/2012 23:00</td>\n",
       "      <td>0.0</td>\n",
       "      <td>-2.1</td>\n",
       "      <td>86</td>\n",
       "      <td>30</td>\n",
       "      <td>11.3</td>\n",
       "      <td>99.89</td>\n",
       "      <td>Snow</td>\n",
       "    </tr>\n",
       "  </tbody>\n",
       "</table>\n",
       "<p>390 rows × 8 columns</p>\n",
       "</div>"
      ],
      "text/plain": [
       "             Date/Time  Temp_C  Dew Point Temp_C  Rel Hum_%  Wind Speed_km/h  \\\n",
       "55       1/3/2012 7:00   -14.0             -19.5         63               19   \n",
       "84      1/4/2012 12:00   -13.7             -21.7         51               11   \n",
       "86      1/4/2012 14:00   -11.3             -19.0         53                7   \n",
       "87      1/4/2012 15:00   -10.2             -16.3         61               11   \n",
       "88      1/4/2012 16:00    -9.4             -15.5         61               13   \n",
       "...                ...     ...               ...        ...              ...   \n",
       "8779  12/31/2012 19:00     0.1              -2.7         81               30   \n",
       "8780  12/31/2012 20:00     0.2              -2.4         83               24   \n",
       "8781  12/31/2012 21:00    -0.5              -1.5         93               28   \n",
       "8782  12/31/2012 22:00    -0.2              -1.8         89               28   \n",
       "8783  12/31/2012 23:00     0.0              -2.1         86               30   \n",
       "\n",
       "      Visibility_km  Press_kPa Weather  \n",
       "55             25.0     100.95    Snow  \n",
       "84             24.1     101.25    Snow  \n",
       "86             19.3     100.97    Snow  \n",
       "87              9.7     100.89    Snow  \n",
       "88             19.3     100.79    Snow  \n",
       "...             ...        ...     ...  \n",
       "8779            9.7     100.13    Snow  \n",
       "8780            9.7     100.03    Snow  \n",
       "8781            4.8      99.95    Snow  \n",
       "8782            9.7      99.91    Snow  \n",
       "8783           11.3      99.89    Snow  \n",
       "\n",
       "[390 rows x 8 columns]"
      ]
     },
     "execution_count": 47,
     "metadata": {},
     "output_type": "execute_result"
    }
   ],
   "source": [
    "data[data['Weather'] == 'Snow'] #Answer 2"
   ]
  },
  {
   "cell_type": "code",
   "execution_count": 49,
   "metadata": {},
   "outputs": [
    {
     "data": {
      "application/vnd.microsoft.datawrangler.viewer.v0+json": {
       "columns": [
        {
         "name": "index",
         "rawType": "int64",
         "type": "integer"
        },
        {
         "name": "Date/Time",
         "rawType": "object",
         "type": "string"
        },
        {
         "name": "Temp_C",
         "rawType": "float64",
         "type": "float"
        },
        {
         "name": "Dew Point Temp_C",
         "rawType": "float64",
         "type": "float"
        },
        {
         "name": "Rel Hum_%",
         "rawType": "int64",
         "type": "integer"
        },
        {
         "name": "Wind Speed_km/h",
         "rawType": "int64",
         "type": "integer"
        },
        {
         "name": "Visibility_km",
         "rawType": "float64",
         "type": "float"
        },
        {
         "name": "Press_kPa",
         "rawType": "float64",
         "type": "float"
        },
        {
         "name": "Weather",
         "rawType": "object",
         "type": "string"
        }
       ],
       "ref": "f6bd3868-4e57-4b91-9497-c38119327aa7",
       "rows": [
        [
         "41",
         "1/2/2012 17:00",
         "-2.1",
         "-9.5",
         "57",
         "22",
         "25.0",
         "99.66",
         "Snow Showers"
        ],
        [
         "44",
         "1/2/2012 20:00",
         "-5.6",
         "-13.4",
         "54",
         "24",
         "25.0",
         "100.07",
         "Snow Showers"
        ],
        [
         "45",
         "1/2/2012 21:00",
         "-5.8",
         "-12.8",
         "58",
         "26",
         "25.0",
         "100.15",
         "Snow Showers"
        ],
        [
         "47",
         "1/2/2012 23:00",
         "-7.4",
         "-14.1",
         "59",
         "17",
         "19.3",
         "100.27",
         "Snow Showers"
        ],
        [
         "48",
         "1/3/2012 0:00",
         "-9.0",
         "-16.0",
         "57",
         "28",
         "25.0",
         "100.35",
         "Snow Showers"
        ],
        [
         "50",
         "1/3/2012 2:00",
         "-10.5",
         "-15.8",
         "65",
         "22",
         "12.9",
         "100.53",
         "Snow Showers"
        ],
        [
         "51",
         "1/3/2012 3:00",
         "-11.3",
         "-18.7",
         "54",
         "33",
         "25.0",
         "100.61",
         "Snow Showers"
        ],
        [
         "53",
         "1/3/2012 5:00",
         "-12.9",
         "-19.1",
         "60",
         "22",
         "25.0",
         "100.76",
         "Snow Showers"
        ],
        [
         "54",
         "1/3/2012 6:00",
         "-13.3",
         "-19.3",
         "61",
         "19",
         "25.0",
         "100.85",
         "Snow Showers"
        ],
        [
         "55",
         "1/3/2012 7:00",
         "-14.0",
         "-19.5",
         "63",
         "19",
         "25.0",
         "100.95",
         "Snow"
        ],
        [
         "84",
         "1/4/2012 12:00",
         "-13.7",
         "-21.7",
         "51",
         "11",
         "24.1",
         "101.25",
         "Snow"
        ],
        [
         "86",
         "1/4/2012 14:00",
         "-11.3",
         "-19.0",
         "53",
         "7",
         "19.3",
         "100.97",
         "Snow"
        ],
        [
         "87",
         "1/4/2012 15:00",
         "-10.2",
         "-16.3",
         "61",
         "11",
         "9.7",
         "100.89",
         "Snow"
        ],
        [
         "88",
         "1/4/2012 16:00",
         "-9.4",
         "-15.5",
         "61",
         "13",
         "19.3",
         "100.79",
         "Snow"
        ],
        [
         "89",
         "1/4/2012 17:00",
         "-8.9",
         "-13.2",
         "71",
         "9",
         "4.8",
         "100.76",
         "Snow"
        ],
        [
         "90",
         "1/4/2012 18:00",
         "-8.9",
         "-12.6",
         "75",
         "11",
         "9.7",
         "100.69",
         "Snow"
        ],
        [
         "91",
         "1/4/2012 19:00",
         "-8.4",
         "-12.7",
         "71",
         "9",
         "16.1",
         "100.65",
         "Snow"
        ],
        [
         "92",
         "1/4/2012 20:00",
         "-7.8",
         "-12.1",
         "71",
         "9",
         "16.1",
         "100.61",
         "Snow"
        ],
        [
         "93",
         "1/4/2012 21:00",
         "-7.6",
         "-11.6",
         "73",
         "7",
         "11.3",
         "100.54",
         "Snow"
        ],
        [
         "94",
         "1/4/2012 22:00",
         "-9.5",
         "-12.7",
         "77",
         "6",
         "9.7",
         "100.5",
         "Snow"
        ],
        [
         "95",
         "1/4/2012 23:00",
         "-9.6",
         "-12.6",
         "79",
         "6",
         "9.7",
         "100.42",
         "Snow"
        ],
        [
         "96",
         "1/5/2012 0:00",
         "-8.8",
         "-11.7",
         "79",
         "4",
         "9.7",
         "100.32",
         "Snow"
        ],
        [
         "97",
         "1/5/2012 1:00",
         "-7.5",
         "-10.2",
         "81",
         "0",
         "9.7",
         "100.29",
         "Snow"
        ],
        [
         "98",
         "1/5/2012 2:00",
         "-5.4",
         "-8.3",
         "80",
         "9",
         "8.0",
         "100.28",
         "Snow"
        ],
        [
         "99",
         "1/5/2012 3:00",
         "-5.0",
         "-7.7",
         "81",
         "11",
         "9.7",
         "100.24",
         "Snow"
        ],
        [
         "100",
         "1/5/2012 4:00",
         "-4.1",
         "-6.5",
         "83",
         "9",
         "4.8",
         "100.21",
         "Snow"
        ],
        [
         "101",
         "1/5/2012 5:00",
         "-7.0",
         "-9.5",
         "82",
         "4",
         "4.0",
         "100.19",
         "Snow"
        ],
        [
         "102",
         "1/5/2012 6:00",
         "-8.2",
         "-10.7",
         "82",
         "6",
         "6.4",
         "100.26",
         "Snow"
        ],
        [
         "103",
         "1/5/2012 7:00",
         "-7.1",
         "-9.7",
         "82",
         "9",
         "9.7",
         "100.31",
         "Snow"
        ],
        [
         "104",
         "1/5/2012 8:00",
         "-6.1",
         "-9.1",
         "79",
         "11",
         "9.7",
         "100.39",
         "Snow"
        ],
        [
         "123",
         "1/6/2012 3:00",
         "-10.6",
         "-16.0",
         "64",
         "0",
         "9.7",
         "100.76",
         "Snow"
        ],
        [
         "124",
         "1/6/2012 4:00",
         "-11.3",
         "-16.1",
         "68",
         "15",
         "3.2",
         "100.7",
         "Snow"
        ],
        [
         "125",
         "1/6/2012 5:00",
         "-11.8",
         "-16.0",
         "71",
         "19",
         "2.8",
         "100.61",
         "Snow"
        ],
        [
         "126",
         "1/6/2012 6:00",
         "-12.0",
         "-16.2",
         "71",
         "22",
         "4.8",
         "100.58",
         "Snow"
        ],
        [
         "127",
         "1/6/2012 7:00",
         "-14.4",
         "-16.3",
         "85",
         "22",
         "2.4",
         "100.52",
         "Snow"
        ],
        [
         "128",
         "1/6/2012 8:00",
         "-12.3",
         "-16.2",
         "73",
         "24",
         "11.3",
         "100.51",
         "Snow"
        ],
        [
         "129",
         "1/6/2012 9:00",
         "-12.5",
         "-16.7",
         "71",
         "26",
         "19.3",
         "100.53",
         "Snow"
        ],
        [
         "130",
         "1/6/2012 10:00",
         "-12.3",
         "-16.3",
         "72",
         "28",
         "16.1",
         "100.47",
         "Snow"
        ],
        [
         "131",
         "1/6/2012 11:00",
         "-12.0",
         "-16.0",
         "72",
         "17",
         "24.1",
         "100.36",
         "Snow"
        ],
        [
         "132",
         "1/6/2012 12:00",
         "-11.7",
         "-15.4",
         "74",
         "28",
         "19.3",
         "100.23",
         "Snow"
        ],
        [
         "133",
         "1/6/2012 13:00",
         "-11.9",
         "-15.6",
         "74",
         "20",
         "24.1",
         "100.13",
         "Snow"
        ],
        [
         "134",
         "1/6/2012 14:00",
         "-11.2",
         "-14.8",
         "75",
         "19",
         "19.3",
         "100.07",
         "Snow"
        ],
        [
         "135",
         "1/6/2012 15:00",
         "-11.5",
         "-14.4",
         "79",
         "19",
         "12.9",
         "100.06",
         "Snow"
        ],
        [
         "136",
         "1/6/2012 16:00",
         "-11.6",
         "-14.7",
         "78",
         "19",
         "19.3",
         "100.1",
         "Snow"
        ],
        [
         "137",
         "1/6/2012 17:00",
         "-11.2",
         "-14.3",
         "78",
         "17",
         "25.0",
         "100.15",
         "Snow"
        ],
        [
         "158",
         "1/7/2012 14:00",
         "-4.4",
         "-6.9",
         "83",
         "6",
         "8.0",
         "100.09",
         "Snow"
        ],
        [
         "159",
         "1/7/2012 15:00",
         "-3.7",
         "-6.1",
         "83",
         "11",
         "8.0",
         "100.09",
         "Snow"
        ],
        [
         "160",
         "1/7/2012 16:00",
         "-3.6",
         "-5.9",
         "84",
         "0",
         "8.0",
         "100.15",
         "Snow"
        ],
        [
         "161",
         "1/7/2012 17:00",
         "-3.1",
         "-5.4",
         "84",
         "13",
         "8.0",
         "100.27",
         "Snow"
        ],
        [
         "162",
         "1/7/2012 18:00",
         "-3.2",
         "-5.3",
         "85",
         "6",
         "9.7",
         "100.33",
         "Snow"
        ]
       ],
       "shape": {
        "columns": 8,
        "rows": 583
       }
      },
      "text/html": [
       "<div>\n",
       "<style scoped>\n",
       "    .dataframe tbody tr th:only-of-type {\n",
       "        vertical-align: middle;\n",
       "    }\n",
       "\n",
       "    .dataframe tbody tr th {\n",
       "        vertical-align: top;\n",
       "    }\n",
       "\n",
       "    .dataframe thead th {\n",
       "        text-align: right;\n",
       "    }\n",
       "</style>\n",
       "<table border=\"1\" class=\"dataframe\">\n",
       "  <thead>\n",
       "    <tr style=\"text-align: right;\">\n",
       "      <th></th>\n",
       "      <th>Date/Time</th>\n",
       "      <th>Temp_C</th>\n",
       "      <th>Dew Point Temp_C</th>\n",
       "      <th>Rel Hum_%</th>\n",
       "      <th>Wind Speed_km/h</th>\n",
       "      <th>Visibility_km</th>\n",
       "      <th>Press_kPa</th>\n",
       "      <th>Weather</th>\n",
       "    </tr>\n",
       "  </thead>\n",
       "  <tbody>\n",
       "    <tr>\n",
       "      <th>41</th>\n",
       "      <td>1/2/2012 17:00</td>\n",
       "      <td>-2.1</td>\n",
       "      <td>-9.5</td>\n",
       "      <td>57</td>\n",
       "      <td>22</td>\n",
       "      <td>25.0</td>\n",
       "      <td>99.66</td>\n",
       "      <td>Snow Showers</td>\n",
       "    </tr>\n",
       "    <tr>\n",
       "      <th>44</th>\n",
       "      <td>1/2/2012 20:00</td>\n",
       "      <td>-5.6</td>\n",
       "      <td>-13.4</td>\n",
       "      <td>54</td>\n",
       "      <td>24</td>\n",
       "      <td>25.0</td>\n",
       "      <td>100.07</td>\n",
       "      <td>Snow Showers</td>\n",
       "    </tr>\n",
       "    <tr>\n",
       "      <th>45</th>\n",
       "      <td>1/2/2012 21:00</td>\n",
       "      <td>-5.8</td>\n",
       "      <td>-12.8</td>\n",
       "      <td>58</td>\n",
       "      <td>26</td>\n",
       "      <td>25.0</td>\n",
       "      <td>100.15</td>\n",
       "      <td>Snow Showers</td>\n",
       "    </tr>\n",
       "    <tr>\n",
       "      <th>47</th>\n",
       "      <td>1/2/2012 23:00</td>\n",
       "      <td>-7.4</td>\n",
       "      <td>-14.1</td>\n",
       "      <td>59</td>\n",
       "      <td>17</td>\n",
       "      <td>19.3</td>\n",
       "      <td>100.27</td>\n",
       "      <td>Snow Showers</td>\n",
       "    </tr>\n",
       "    <tr>\n",
       "      <th>48</th>\n",
       "      <td>1/3/2012 0:00</td>\n",
       "      <td>-9.0</td>\n",
       "      <td>-16.0</td>\n",
       "      <td>57</td>\n",
       "      <td>28</td>\n",
       "      <td>25.0</td>\n",
       "      <td>100.35</td>\n",
       "      <td>Snow Showers</td>\n",
       "    </tr>\n",
       "    <tr>\n",
       "      <th>...</th>\n",
       "      <td>...</td>\n",
       "      <td>...</td>\n",
       "      <td>...</td>\n",
       "      <td>...</td>\n",
       "      <td>...</td>\n",
       "      <td>...</td>\n",
       "      <td>...</td>\n",
       "      <td>...</td>\n",
       "    </tr>\n",
       "    <tr>\n",
       "      <th>8779</th>\n",
       "      <td>12/31/2012 19:00</td>\n",
       "      <td>0.1</td>\n",
       "      <td>-2.7</td>\n",
       "      <td>81</td>\n",
       "      <td>30</td>\n",
       "      <td>9.7</td>\n",
       "      <td>100.13</td>\n",
       "      <td>Snow</td>\n",
       "    </tr>\n",
       "    <tr>\n",
       "      <th>8780</th>\n",
       "      <td>12/31/2012 20:00</td>\n",
       "      <td>0.2</td>\n",
       "      <td>-2.4</td>\n",
       "      <td>83</td>\n",
       "      <td>24</td>\n",
       "      <td>9.7</td>\n",
       "      <td>100.03</td>\n",
       "      <td>Snow</td>\n",
       "    </tr>\n",
       "    <tr>\n",
       "      <th>8781</th>\n",
       "      <td>12/31/2012 21:00</td>\n",
       "      <td>-0.5</td>\n",
       "      <td>-1.5</td>\n",
       "      <td>93</td>\n",
       "      <td>28</td>\n",
       "      <td>4.8</td>\n",
       "      <td>99.95</td>\n",
       "      <td>Snow</td>\n",
       "    </tr>\n",
       "    <tr>\n",
       "      <th>8782</th>\n",
       "      <td>12/31/2012 22:00</td>\n",
       "      <td>-0.2</td>\n",
       "      <td>-1.8</td>\n",
       "      <td>89</td>\n",
       "      <td>28</td>\n",
       "      <td>9.7</td>\n",
       "      <td>99.91</td>\n",
       "      <td>Snow</td>\n",
       "    </tr>\n",
       "    <tr>\n",
       "      <th>8783</th>\n",
       "      <td>12/31/2012 23:00</td>\n",
       "      <td>0.0</td>\n",
       "      <td>-2.1</td>\n",
       "      <td>86</td>\n",
       "      <td>30</td>\n",
       "      <td>11.3</td>\n",
       "      <td>99.89</td>\n",
       "      <td>Snow</td>\n",
       "    </tr>\n",
       "  </tbody>\n",
       "</table>\n",
       "<p>583 rows × 8 columns</p>\n",
       "</div>"
      ],
      "text/plain": [
       "             Date/Time  Temp_C  Dew Point Temp_C  Rel Hum_%  Wind Speed_km/h  \\\n",
       "41      1/2/2012 17:00    -2.1              -9.5         57               22   \n",
       "44      1/2/2012 20:00    -5.6             -13.4         54               24   \n",
       "45      1/2/2012 21:00    -5.8             -12.8         58               26   \n",
       "47      1/2/2012 23:00    -7.4             -14.1         59               17   \n",
       "48       1/3/2012 0:00    -9.0             -16.0         57               28   \n",
       "...                ...     ...               ...        ...              ...   \n",
       "8779  12/31/2012 19:00     0.1              -2.7         81               30   \n",
       "8780  12/31/2012 20:00     0.2              -2.4         83               24   \n",
       "8781  12/31/2012 21:00    -0.5              -1.5         93               28   \n",
       "8782  12/31/2012 22:00    -0.2              -1.8         89               28   \n",
       "8783  12/31/2012 23:00     0.0              -2.1         86               30   \n",
       "\n",
       "      Visibility_km  Press_kPa       Weather  \n",
       "41             25.0      99.66  Snow Showers  \n",
       "44             25.0     100.07  Snow Showers  \n",
       "45             25.0     100.15  Snow Showers  \n",
       "47             19.3     100.27  Snow Showers  \n",
       "48             25.0     100.35  Snow Showers  \n",
       "...             ...        ...           ...  \n",
       "8779            9.7     100.13          Snow  \n",
       "8780            9.7     100.03          Snow  \n",
       "8781            4.8      99.95          Snow  \n",
       "8782            9.7      99.91          Snow  \n",
       "8783           11.3      99.89          Snow  \n",
       "\n",
       "[583 rows x 8 columns]"
      ]
     },
     "execution_count": 49,
     "metadata": {},
     "output_type": "execute_result"
    }
   ],
   "source": [
    "data[data['Weather'].str.contains('Snow')]"
   ]
  },
  {
   "cell_type": "markdown",
   "metadata": {},
   "source": [
    "### Q10. Find all instances when 'Wind Speed is above 24' and 'Visibility is 25'"
   ]
  },
  {
   "cell_type": "code",
   "execution_count": 52,
   "metadata": {},
   "outputs": [
    {
     "data": {
      "application/vnd.microsoft.datawrangler.viewer.v0+json": {
       "columns": [
        {
         "name": "index",
         "rawType": "int64",
         "type": "integer"
        },
        {
         "name": "Date/Time",
         "rawType": "object",
         "type": "string"
        },
        {
         "name": "Temp_C",
         "rawType": "float64",
         "type": "float"
        },
        {
         "name": "Dew Point Temp_C",
         "rawType": "float64",
         "type": "float"
        },
        {
         "name": "Rel Hum_%",
         "rawType": "int64",
         "type": "integer"
        },
        {
         "name": "Wind Speed_km/h",
         "rawType": "int64",
         "type": "integer"
        },
        {
         "name": "Visibility_km",
         "rawType": "float64",
         "type": "float"
        },
        {
         "name": "Press_kPa",
         "rawType": "float64",
         "type": "float"
        },
        {
         "name": "Weather",
         "rawType": "object",
         "type": "string"
        }
       ],
       "ref": "1db46eed-9dd9-4efd-a3e1-93562ea193e0",
       "rows": [
        [
         "23",
         "1/1/2012 23:00",
         "5.3",
         "2.0",
         "79",
         "30",
         "25.0",
         "99.31",
         "Cloudy"
        ],
        [
         "24",
         "1/2/2012 0:00",
         "5.2",
         "1.5",
         "77",
         "35",
         "25.0",
         "99.26",
         "Rain Showers"
        ],
        [
         "25",
         "1/2/2012 1:00",
         "4.6",
         "0.0",
         "72",
         "39",
         "25.0",
         "99.26",
         "Cloudy"
        ],
        [
         "26",
         "1/2/2012 2:00",
         "3.9",
         "-0.9",
         "71",
         "32",
         "25.0",
         "99.26",
         "Mostly Cloudy"
        ],
        [
         "27",
         "1/2/2012 3:00",
         "3.7",
         "-1.5",
         "69",
         "33",
         "25.0",
         "99.3",
         "Mostly Cloudy"
        ],
        [
         "28",
         "1/2/2012 4:00",
         "2.9",
         "-2.3",
         "69",
         "32",
         "25.0",
         "99.26",
         "Mostly Cloudy"
        ],
        [
         "29",
         "1/2/2012 5:00",
         "2.6",
         "-2.3",
         "70",
         "32",
         "25.0",
         "99.21",
         "Mostly Cloudy"
        ],
        [
         "30",
         "1/2/2012 6:00",
         "2.3",
         "-2.6",
         "70",
         "26",
         "25.0",
         "99.18",
         "Mostly Cloudy"
        ],
        [
         "31",
         "1/2/2012 7:00",
         "2.0",
         "-2.9",
         "70",
         "33",
         "25.0",
         "99.14",
         "Mostly Cloudy"
        ],
        [
         "42",
         "1/2/2012 18:00",
         "-4.1",
         "-11.4",
         "57",
         "28",
         "25.0",
         "99.86",
         "Mostly Cloudy"
        ],
        [
         "45",
         "1/2/2012 21:00",
         "-5.8",
         "-12.8",
         "58",
         "26",
         "25.0",
         "100.15",
         "Snow Showers"
        ],
        [
         "48",
         "1/3/2012 0:00",
         "-9.0",
         "-16.0",
         "57",
         "28",
         "25.0",
         "100.35",
         "Snow Showers"
        ],
        [
         "51",
         "1/3/2012 3:00",
         "-11.3",
         "-18.7",
         "54",
         "33",
         "25.0",
         "100.61",
         "Snow Showers"
        ],
        [
         "168",
         "1/8/2012 0:00",
         "0.6",
         "-3.2",
         "76",
         "32",
         "25.0",
         "100.72",
         "Cloudy"
        ],
        [
         "169",
         "1/8/2012 1:00",
         "-0.6",
         "-4.6",
         "74",
         "32",
         "25.0",
         "100.8",
         "Mostly Cloudy"
        ],
        [
         "170",
         "1/8/2012 2:00",
         "-1.7",
         "-6.2",
         "71",
         "30",
         "25.0",
         "100.98",
         "Mostly Cloudy"
        ],
        [
         "171",
         "1/8/2012 3:00",
         "-3.5",
         "-8.3",
         "69",
         "32",
         "25.0",
         "101.13",
         "Mainly Clear"
        ],
        [
         "216",
         "1/10/2012 0:00",
         "2.5",
         "-5.2",
         "57",
         "30",
         "25.0",
         "100.38",
         "Cloudy"
        ],
        [
         "217",
         "1/10/2012 1:00",
         "2.3",
         "-3.4",
         "66",
         "35",
         "25.0",
         "100.28",
         "Snow"
        ],
        [
         "219",
         "1/10/2012 3:00",
         "1.6",
         "-2.0",
         "77",
         "28",
         "25.0",
         "100.16",
         "Snow"
        ],
        [
         "220",
         "1/10/2012 4:00",
         "1.2",
         "-1.7",
         "81",
         "26",
         "25.0",
         "100.07",
         "Cloudy"
        ],
        [
         "259",
         "1/11/2012 19:00",
         "-11.8",
         "-19.2",
         "54",
         "30",
         "25.0",
         "101.43",
         "Mostly Cloudy"
        ],
        [
         "266",
         "1/12/2012 2:00",
         "-9.4",
         "-15.0",
         "64",
         "26",
         "25.0",
         "101.08",
         "Cloudy"
        ],
        [
         "267",
         "1/12/2012 3:00",
         "-9.0",
         "-14.7",
         "63",
         "33",
         "25.0",
         "101.02",
         "Cloudy"
        ],
        [
         "269",
         "1/12/2012 5:00",
         "-8.0",
         "-13.7",
         "64",
         "30",
         "25.0",
         "100.81",
         "Cloudy"
        ],
        [
         "270",
         "1/12/2012 6:00",
         "-7.6",
         "-13.1",
         "65",
         "28",
         "25.0",
         "100.76",
         "Cloudy"
        ],
        [
         "286",
         "1/12/2012 22:00",
         "-4.1",
         "-6.8",
         "81",
         "26",
         "25.0",
         "99.47",
         "Snow"
        ],
        [
         "319",
         "1/14/2012 7:00",
         "-16.8",
         "-22.2",
         "63",
         "26",
         "25.0",
         "100.73",
         "Mostly Cloudy"
        ],
        [
         "409",
         "1/18/2012 1:00",
         "3.7",
         "-2.1",
         "66",
         "83",
         "25.0",
         "98.36",
         "Mostly Cloudy"
        ],
        [
         "410",
         "1/18/2012 2:00",
         "0.5",
         "-4.0",
         "72",
         "70",
         "25.0",
         "98.62",
         "Mostly Cloudy"
        ],
        [
         "411",
         "1/18/2012 3:00",
         "-3.5",
         "-8.2",
         "70",
         "57",
         "25.0",
         "99.0",
         "Mostly Cloudy"
        ],
        [
         "412",
         "1/18/2012 4:00",
         "-6.1",
         "-10.9",
         "69",
         "48",
         "25.0",
         "99.36",
         "Snow"
        ],
        [
         "451",
         "1/19/2012 19:00",
         "-3.6",
         "-12.7",
         "49",
         "30",
         "25.0",
         "100.61",
         "Snow"
        ],
        [
         "454",
         "1/19/2012 22:00",
         "-4.2",
         "-9.3",
         "68",
         "32",
         "25.0",
         "100.51",
         "Snow"
        ],
        [
         "455",
         "1/19/2012 23:00",
         "-4.1",
         "-8.9",
         "69",
         "26",
         "25.0",
         "100.47",
         "Snow"
        ],
        [
         "456",
         "1/20/2012 0:00",
         "-4.1",
         "-8.6",
         "71",
         "26",
         "25.0",
         "100.5",
         "Mostly Cloudy"
        ],
        [
         "461",
         "1/20/2012 5:00",
         "-6.3",
         "-12.2",
         "63",
         "33",
         "25.0",
         "100.98",
         "Snow"
        ],
        [
         "462",
         "1/20/2012 6:00",
         "-7.6",
         "-14.3",
         "59",
         "28",
         "25.0",
         "101.13",
         "Cloudy"
        ],
        [
         "463",
         "1/20/2012 7:00",
         "-8.6",
         "-15.6",
         "57",
         "28",
         "25.0",
         "101.27",
         "Mostly Cloudy"
        ],
        [
         "550",
         "1/23/2012 22:00",
         "3.6",
         "2.2",
         "91",
         "28",
         "25.0",
         "100.1",
         "Cloudy"
        ],
        [
         "556",
         "1/24/2012 4:00",
         "4.2",
         "1.2",
         "81",
         "30",
         "25.0",
         "100.25",
         "Cloudy"
        ],
        [
         "557",
         "1/24/2012 5:00",
         "3.7",
         "-0.2",
         "76",
         "41",
         "25.0",
         "100.37",
         "Cloudy"
        ],
        [
         "558",
         "1/24/2012 6:00",
         "3.4",
         "-0.6",
         "75",
         "28",
         "25.0",
         "100.45",
         "Cloudy"
        ],
        [
         "571",
         "1/24/2012 19:00",
         "1.5",
         "-3.2",
         "71",
         "32",
         "25.0",
         "101.01",
         "Snow Showers"
        ],
        [
         "575",
         "1/24/2012 23:00",
         "1.0",
         "-3.4",
         "72",
         "28",
         "25.0",
         "101.16",
         "Snow Showers"
        ],
        [
         "576",
         "1/25/2012 0:00",
         "0.5",
         "-4.6",
         "69",
         "28",
         "25.0",
         "101.2",
         "Cloudy"
        ],
        [
         "581",
         "1/25/2012 5:00",
         "-1.7",
         "-7.7",
         "64",
         "33",
         "25.0",
         "101.58",
         "Mostly Cloudy"
        ],
        [
         "582",
         "1/25/2012 6:00",
         "-2.8",
         "-9.0",
         "62",
         "35",
         "25.0",
         "101.66",
         "Mostly Cloudy"
        ],
        [
         "583",
         "1/25/2012 7:00",
         "-3.9",
         "-10.0",
         "63",
         "37",
         "25.0",
         "101.79",
         "Mostly Cloudy"
        ],
        [
         "670",
         "1/28/2012 22:00",
         "2.3",
         "-2.0",
         "73",
         "37",
         "25.0",
         "99.85",
         "Mostly Cloudy"
        ]
       ],
       "shape": {
        "columns": 8,
        "rows": 308
       }
      },
      "text/html": [
       "<div>\n",
       "<style scoped>\n",
       "    .dataframe tbody tr th:only-of-type {\n",
       "        vertical-align: middle;\n",
       "    }\n",
       "\n",
       "    .dataframe tbody tr th {\n",
       "        vertical-align: top;\n",
       "    }\n",
       "\n",
       "    .dataframe thead th {\n",
       "        text-align: right;\n",
       "    }\n",
       "</style>\n",
       "<table border=\"1\" class=\"dataframe\">\n",
       "  <thead>\n",
       "    <tr style=\"text-align: right;\">\n",
       "      <th></th>\n",
       "      <th>Date/Time</th>\n",
       "      <th>Temp_C</th>\n",
       "      <th>Dew Point Temp_C</th>\n",
       "      <th>Rel Hum_%</th>\n",
       "      <th>Wind Speed_km/h</th>\n",
       "      <th>Visibility_km</th>\n",
       "      <th>Press_kPa</th>\n",
       "      <th>Weather</th>\n",
       "    </tr>\n",
       "  </thead>\n",
       "  <tbody>\n",
       "    <tr>\n",
       "      <th>23</th>\n",
       "      <td>1/1/2012 23:00</td>\n",
       "      <td>5.3</td>\n",
       "      <td>2.0</td>\n",
       "      <td>79</td>\n",
       "      <td>30</td>\n",
       "      <td>25.0</td>\n",
       "      <td>99.31</td>\n",
       "      <td>Cloudy</td>\n",
       "    </tr>\n",
       "    <tr>\n",
       "      <th>24</th>\n",
       "      <td>1/2/2012 0:00</td>\n",
       "      <td>5.2</td>\n",
       "      <td>1.5</td>\n",
       "      <td>77</td>\n",
       "      <td>35</td>\n",
       "      <td>25.0</td>\n",
       "      <td>99.26</td>\n",
       "      <td>Rain Showers</td>\n",
       "    </tr>\n",
       "    <tr>\n",
       "      <th>25</th>\n",
       "      <td>1/2/2012 1:00</td>\n",
       "      <td>4.6</td>\n",
       "      <td>0.0</td>\n",
       "      <td>72</td>\n",
       "      <td>39</td>\n",
       "      <td>25.0</td>\n",
       "      <td>99.26</td>\n",
       "      <td>Cloudy</td>\n",
       "    </tr>\n",
       "    <tr>\n",
       "      <th>26</th>\n",
       "      <td>1/2/2012 2:00</td>\n",
       "      <td>3.9</td>\n",
       "      <td>-0.9</td>\n",
       "      <td>71</td>\n",
       "      <td>32</td>\n",
       "      <td>25.0</td>\n",
       "      <td>99.26</td>\n",
       "      <td>Mostly Cloudy</td>\n",
       "    </tr>\n",
       "    <tr>\n",
       "      <th>27</th>\n",
       "      <td>1/2/2012 3:00</td>\n",
       "      <td>3.7</td>\n",
       "      <td>-1.5</td>\n",
       "      <td>69</td>\n",
       "      <td>33</td>\n",
       "      <td>25.0</td>\n",
       "      <td>99.30</td>\n",
       "      <td>Mostly Cloudy</td>\n",
       "    </tr>\n",
       "    <tr>\n",
       "      <th>...</th>\n",
       "      <td>...</td>\n",
       "      <td>...</td>\n",
       "      <td>...</td>\n",
       "      <td>...</td>\n",
       "      <td>...</td>\n",
       "      <td>...</td>\n",
       "      <td>...</td>\n",
       "      <td>...</td>\n",
       "    </tr>\n",
       "    <tr>\n",
       "      <th>8705</th>\n",
       "      <td>12/28/2012 17:00</td>\n",
       "      <td>-8.6</td>\n",
       "      <td>-12.0</td>\n",
       "      <td>76</td>\n",
       "      <td>26</td>\n",
       "      <td>25.0</td>\n",
       "      <td>101.34</td>\n",
       "      <td>Mainly Clear</td>\n",
       "    </tr>\n",
       "    <tr>\n",
       "      <th>8753</th>\n",
       "      <td>12/30/2012 17:00</td>\n",
       "      <td>-12.1</td>\n",
       "      <td>-15.8</td>\n",
       "      <td>74</td>\n",
       "      <td>28</td>\n",
       "      <td>25.0</td>\n",
       "      <td>101.26</td>\n",
       "      <td>Mainly Clear</td>\n",
       "    </tr>\n",
       "    <tr>\n",
       "      <th>8755</th>\n",
       "      <td>12/30/2012 19:00</td>\n",
       "      <td>-13.4</td>\n",
       "      <td>-16.5</td>\n",
       "      <td>77</td>\n",
       "      <td>26</td>\n",
       "      <td>25.0</td>\n",
       "      <td>101.47</td>\n",
       "      <td>Mainly Clear</td>\n",
       "    </tr>\n",
       "    <tr>\n",
       "      <th>8759</th>\n",
       "      <td>12/30/2012 23:00</td>\n",
       "      <td>-12.1</td>\n",
       "      <td>-15.1</td>\n",
       "      <td>78</td>\n",
       "      <td>28</td>\n",
       "      <td>25.0</td>\n",
       "      <td>101.52</td>\n",
       "      <td>Mostly Cloudy</td>\n",
       "    </tr>\n",
       "    <tr>\n",
       "      <th>8760</th>\n",
       "      <td>12/31/2012 0:00</td>\n",
       "      <td>-11.1</td>\n",
       "      <td>-14.4</td>\n",
       "      <td>77</td>\n",
       "      <td>26</td>\n",
       "      <td>25.0</td>\n",
       "      <td>101.51</td>\n",
       "      <td>Cloudy</td>\n",
       "    </tr>\n",
       "  </tbody>\n",
       "</table>\n",
       "<p>308 rows × 8 columns</p>\n",
       "</div>"
      ],
      "text/plain": [
       "             Date/Time  Temp_C  Dew Point Temp_C  Rel Hum_%  Wind Speed_km/h  \\\n",
       "23      1/1/2012 23:00     5.3               2.0         79               30   \n",
       "24       1/2/2012 0:00     5.2               1.5         77               35   \n",
       "25       1/2/2012 1:00     4.6               0.0         72               39   \n",
       "26       1/2/2012 2:00     3.9              -0.9         71               32   \n",
       "27       1/2/2012 3:00     3.7              -1.5         69               33   \n",
       "...                ...     ...               ...        ...              ...   \n",
       "8705  12/28/2012 17:00    -8.6             -12.0         76               26   \n",
       "8753  12/30/2012 17:00   -12.1             -15.8         74               28   \n",
       "8755  12/30/2012 19:00   -13.4             -16.5         77               26   \n",
       "8759  12/30/2012 23:00   -12.1             -15.1         78               28   \n",
       "8760   12/31/2012 0:00   -11.1             -14.4         77               26   \n",
       "\n",
       "      Visibility_km  Press_kPa        Weather  \n",
       "23             25.0      99.31         Cloudy  \n",
       "24             25.0      99.26   Rain Showers  \n",
       "25             25.0      99.26         Cloudy  \n",
       "26             25.0      99.26  Mostly Cloudy  \n",
       "27             25.0      99.30  Mostly Cloudy  \n",
       "...             ...        ...            ...  \n",
       "8705           25.0     101.34   Mainly Clear  \n",
       "8753           25.0     101.26   Mainly Clear  \n",
       "8755           25.0     101.47   Mainly Clear  \n",
       "8759           25.0     101.52  Mostly Cloudy  \n",
       "8760           25.0     101.51         Cloudy  \n",
       "\n",
       "[308 rows x 8 columns]"
      ]
     },
     "execution_count": 52,
     "metadata": {},
     "output_type": "execute_result"
    }
   ],
   "source": [
    "data[(data['Wind Speed_km/h'] > 24) & (data['Visibility_km'] == 25)]"
   ]
  },
  {
   "cell_type": "markdown",
   "metadata": {},
   "source": [
    "### Q11. What is the Mean value of each column against each 'Weather'"
   ]
  },
  {
   "cell_type": "code",
   "execution_count": 53,
   "metadata": {},
   "outputs": [
    {
     "ename": "KeyError",
     "evalue": "'Wheather'",
     "output_type": "error",
     "traceback": [
      "\u001b[31m---------------------------------------------------------------------------\u001b[39m",
      "\u001b[31mKeyError\u001b[39m                                  Traceback (most recent call last)",
      "\u001b[36mCell\u001b[39m\u001b[36m \u001b[39m\u001b[32mIn[53]\u001b[39m\u001b[32m, line 1\u001b[39m\n\u001b[32m----> \u001b[39m\u001b[32m1\u001b[39m \u001b[43mdata\u001b[49m\u001b[43m.\u001b[49m\u001b[43mgroupby\u001b[49m\u001b[43m(\u001b[49m\u001b[33;43m'\u001b[39;49m\u001b[33;43mWheather\u001b[39;49m\u001b[33;43m'\u001b[39;49m\u001b[43m)\u001b[49m.mean()\n",
      "\u001b[36mFile \u001b[39m\u001b[32m~\\AppData\\Local\\Packages\\PythonSoftwareFoundation.Python.3.13_qbz5n2kfra8p0\\LocalCache\\local-packages\\Python313\\site-packages\\pandas\\core\\frame.py:9190\u001b[39m, in \u001b[36mDataFrame.groupby\u001b[39m\u001b[34m(self, by, axis, level, as_index, sort, group_keys, observed, dropna)\u001b[39m\n\u001b[32m   9187\u001b[39m \u001b[38;5;28;01mif\u001b[39;00m level \u001b[38;5;129;01mis\u001b[39;00m \u001b[38;5;28;01mNone\u001b[39;00m \u001b[38;5;129;01mand\u001b[39;00m by \u001b[38;5;129;01mis\u001b[39;00m \u001b[38;5;28;01mNone\u001b[39;00m:\n\u001b[32m   9188\u001b[39m     \u001b[38;5;28;01mraise\u001b[39;00m \u001b[38;5;167;01mTypeError\u001b[39;00m(\u001b[33m\"\u001b[39m\u001b[33mYou have to supply one of \u001b[39m\u001b[33m'\u001b[39m\u001b[33mby\u001b[39m\u001b[33m'\u001b[39m\u001b[33m and \u001b[39m\u001b[33m'\u001b[39m\u001b[33mlevel\u001b[39m\u001b[33m'\u001b[39m\u001b[33m\"\u001b[39m)\n\u001b[32m-> \u001b[39m\u001b[32m9190\u001b[39m \u001b[38;5;28;01mreturn\u001b[39;00m \u001b[43mDataFrameGroupBy\u001b[49m\u001b[43m(\u001b[49m\n\u001b[32m   9191\u001b[39m \u001b[43m    \u001b[49m\u001b[43mobj\u001b[49m\u001b[43m=\u001b[49m\u001b[38;5;28;43mself\u001b[39;49m\u001b[43m,\u001b[49m\n\u001b[32m   9192\u001b[39m \u001b[43m    \u001b[49m\u001b[43mkeys\u001b[49m\u001b[43m=\u001b[49m\u001b[43mby\u001b[49m\u001b[43m,\u001b[49m\n\u001b[32m   9193\u001b[39m \u001b[43m    \u001b[49m\u001b[43maxis\u001b[49m\u001b[43m=\u001b[49m\u001b[43maxis\u001b[49m\u001b[43m,\u001b[49m\n\u001b[32m   9194\u001b[39m \u001b[43m    \u001b[49m\u001b[43mlevel\u001b[49m\u001b[43m=\u001b[49m\u001b[43mlevel\u001b[49m\u001b[43m,\u001b[49m\n\u001b[32m   9195\u001b[39m \u001b[43m    \u001b[49m\u001b[43mas_index\u001b[49m\u001b[43m=\u001b[49m\u001b[43mas_index\u001b[49m\u001b[43m,\u001b[49m\n\u001b[32m   9196\u001b[39m \u001b[43m    \u001b[49m\u001b[43msort\u001b[49m\u001b[43m=\u001b[49m\u001b[43msort\u001b[49m\u001b[43m,\u001b[49m\n\u001b[32m   9197\u001b[39m \u001b[43m    \u001b[49m\u001b[43mgroup_keys\u001b[49m\u001b[43m=\u001b[49m\u001b[43mgroup_keys\u001b[49m\u001b[43m,\u001b[49m\n\u001b[32m   9198\u001b[39m \u001b[43m    \u001b[49m\u001b[43mobserved\u001b[49m\u001b[43m=\u001b[49m\u001b[43mobserved\u001b[49m\u001b[43m,\u001b[49m\n\u001b[32m   9199\u001b[39m \u001b[43m    \u001b[49m\u001b[43mdropna\u001b[49m\u001b[43m=\u001b[49m\u001b[43mdropna\u001b[49m\u001b[43m,\u001b[49m\n\u001b[32m   9200\u001b[39m \u001b[43m\u001b[49m\u001b[43m)\u001b[49m\n",
      "\u001b[36mFile \u001b[39m\u001b[32m~\\AppData\\Local\\Packages\\PythonSoftwareFoundation.Python.3.13_qbz5n2kfra8p0\\LocalCache\\local-packages\\Python313\\site-packages\\pandas\\core\\groupby\\groupby.py:1329\u001b[39m, in \u001b[36mGroupBy.__init__\u001b[39m\u001b[34m(self, obj, keys, axis, level, grouper, exclusions, selection, as_index, sort, group_keys, observed, dropna)\u001b[39m\n\u001b[32m   1326\u001b[39m \u001b[38;5;28mself\u001b[39m.dropna = dropna\n\u001b[32m   1328\u001b[39m \u001b[38;5;28;01mif\u001b[39;00m grouper \u001b[38;5;129;01mis\u001b[39;00m \u001b[38;5;28;01mNone\u001b[39;00m:\n\u001b[32m-> \u001b[39m\u001b[32m1329\u001b[39m     grouper, exclusions, obj = \u001b[43mget_grouper\u001b[49m\u001b[43m(\u001b[49m\n\u001b[32m   1330\u001b[39m \u001b[43m        \u001b[49m\u001b[43mobj\u001b[49m\u001b[43m,\u001b[49m\n\u001b[32m   1331\u001b[39m \u001b[43m        \u001b[49m\u001b[43mkeys\u001b[49m\u001b[43m,\u001b[49m\n\u001b[32m   1332\u001b[39m \u001b[43m        \u001b[49m\u001b[43maxis\u001b[49m\u001b[43m=\u001b[49m\u001b[43maxis\u001b[49m\u001b[43m,\u001b[49m\n\u001b[32m   1333\u001b[39m \u001b[43m        \u001b[49m\u001b[43mlevel\u001b[49m\u001b[43m=\u001b[49m\u001b[43mlevel\u001b[49m\u001b[43m,\u001b[49m\n\u001b[32m   1334\u001b[39m \u001b[43m        \u001b[49m\u001b[43msort\u001b[49m\u001b[43m=\u001b[49m\u001b[43msort\u001b[49m\u001b[43m,\u001b[49m\n\u001b[32m   1335\u001b[39m \u001b[43m        \u001b[49m\u001b[43mobserved\u001b[49m\u001b[43m=\u001b[49m\u001b[38;5;28;43;01mFalse\u001b[39;49;00m\u001b[43m \u001b[49m\u001b[38;5;28;43;01mif\u001b[39;49;00m\u001b[43m \u001b[49m\u001b[43mobserved\u001b[49m\u001b[43m \u001b[49m\u001b[38;5;129;43;01mis\u001b[39;49;00m\u001b[43m \u001b[49m\u001b[43mlib\u001b[49m\u001b[43m.\u001b[49m\u001b[43mno_default\u001b[49m\u001b[43m \u001b[49m\u001b[38;5;28;43;01melse\u001b[39;49;00m\u001b[43m \u001b[49m\u001b[43mobserved\u001b[49m\u001b[43m,\u001b[49m\n\u001b[32m   1336\u001b[39m \u001b[43m        \u001b[49m\u001b[43mdropna\u001b[49m\u001b[43m=\u001b[49m\u001b[38;5;28;43mself\u001b[39;49m\u001b[43m.\u001b[49m\u001b[43mdropna\u001b[49m\u001b[43m,\u001b[49m\n\u001b[32m   1337\u001b[39m \u001b[43m    \u001b[49m\u001b[43m)\u001b[49m\n\u001b[32m   1339\u001b[39m \u001b[38;5;28;01mif\u001b[39;00m observed \u001b[38;5;129;01mis\u001b[39;00m lib.no_default:\n\u001b[32m   1340\u001b[39m     \u001b[38;5;28;01mif\u001b[39;00m \u001b[38;5;28many\u001b[39m(ping._passed_categorical \u001b[38;5;28;01mfor\u001b[39;00m ping \u001b[38;5;129;01min\u001b[39;00m grouper.groupings):\n",
      "\u001b[36mFile \u001b[39m\u001b[32m~\\AppData\\Local\\Packages\\PythonSoftwareFoundation.Python.3.13_qbz5n2kfra8p0\\LocalCache\\local-packages\\Python313\\site-packages\\pandas\\core\\groupby\\grouper.py:1043\u001b[39m, in \u001b[36mget_grouper\u001b[39m\u001b[34m(obj, key, axis, level, sort, observed, validate, dropna)\u001b[39m\n\u001b[32m   1041\u001b[39m         in_axis, level, gpr = \u001b[38;5;28;01mFalse\u001b[39;00m, gpr, \u001b[38;5;28;01mNone\u001b[39;00m\n\u001b[32m   1042\u001b[39m     \u001b[38;5;28;01melse\u001b[39;00m:\n\u001b[32m-> \u001b[39m\u001b[32m1043\u001b[39m         \u001b[38;5;28;01mraise\u001b[39;00m \u001b[38;5;167;01mKeyError\u001b[39;00m(gpr)\n\u001b[32m   1044\u001b[39m \u001b[38;5;28;01melif\u001b[39;00m \u001b[38;5;28misinstance\u001b[39m(gpr, Grouper) \u001b[38;5;129;01mand\u001b[39;00m gpr.key \u001b[38;5;129;01mis\u001b[39;00m \u001b[38;5;129;01mnot\u001b[39;00m \u001b[38;5;28;01mNone\u001b[39;00m:\n\u001b[32m   1045\u001b[39m     \u001b[38;5;66;03m# Add key to exclusions\u001b[39;00m\n\u001b[32m   1046\u001b[39m     exclusions.add(gpr.key)\n",
      "\u001b[31mKeyError\u001b[39m: 'Wheather'"
     ]
    }
   ],
   "source": [
    "data.groupby('Weather').mean()"
   ]
  }
 ],
 "metadata": {
  "kernelspec": {
   "display_name": "Python 3",
   "language": "python",
   "name": "python3"
  },
  "language_info": {
   "codemirror_mode": {
    "name": "ipython",
    "version": 3
   },
   "file_extension": ".py",
   "mimetype": "text/x-python",
   "name": "python",
   "nbconvert_exporter": "python",
   "pygments_lexer": "ipython3",
   "version": "3.13.5"
  }
 },
 "nbformat": 4,
 "nbformat_minor": 2
}
